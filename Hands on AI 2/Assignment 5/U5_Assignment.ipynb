{
 "cells": [
  {
   "cell_type": "markdown",
   "metadata": {},
   "source": [
    "Name | Matr.Nr. | Due Date\n",
    ":--- | ---: | ---:\n",
    "Mohamed Abdelaziz | 12137202 | 10.06.2022, 08:00"
   ]
  },
  {
   "cell_type": "markdown",
   "metadata": {},
   "source": [
    "<h1 style=\"color:rgb(0,120,170)\">Hands-on AI II</h1>\n",
    "<h2 style=\"color:rgb(0,120,170)\">Unit 5 – Language Modeling with LSTM (Assignment)</h2>"
   ]
  },
  {
   "cell_type": "markdown",
   "metadata": {},
   "source": [
    "<b>Authors:</b> N. Rekabsaz, B. Schäfl, S. Lehner, J. Brandstetter, E. Kobler<br>\n",
    "<b>Date:</b> 11-05-2022\n",
    "\n",
    "This file is part of the \"Hands-on AI II\" lecture material. The following copyright statement applies to all code within this file.\n",
    "\n",
    "<b>Copyright statement:</b><br>\n",
    "This material, no matter whether in printed or electronic form, may be used for personal and non-commercial educational use only. Any reproduction of this material, no matter whether as a whole or in parts, no matter whether in printed or in electronic form, requires explicit prior acceptance of the authors."
   ]
  },
  {
   "cell_type": "markdown",
   "metadata": {},
   "source": [
    "<h3 style=\"color:rgb(0,120,170)\">How to use this notebook</h3>\n",
    "<p><p>This notebook is designed to run from start to finish. There are different tasks (displayed in <span style=\"color:rgb(248,138,36)\">orange boxes</span>) which might require small code modifications. Most/All of the used functions are imported from the file <code>u5_utils.py</code> which can be seen and treated as a black box. However, for further understanding, you can look at the implementations of the helper functions. In order to run this notebook, the packages which are imported at the beginning of <code>u5_utils.py</code> need to be installed.</p></p>"
   ]
  },
  {
   "cell_type": "code",
   "execution_count": 2,
   "metadata": {},
   "outputs": [
    {
     "name": "stdout",
     "output_type": "stream",
     "text": [
      "Installed Python version: 3.10 (✓)\n",
      "Installed numpy version: 1.24.1 (✓)\n",
      "Installed pandas version: 1.5.2 (✓)\n",
      "Installed PyTorch version: 1.13.1+cu116 (✓)\n"
     ]
    }
   ],
   "source": [
    "import u5_utils as u5\n",
    "\n",
    "import numpy as np\n",
    "import torch\n",
    "import os\n",
    "import time\n",
    "import math\n",
    "# import ipdb\n",
    "import matplotlib.pyplot as plt\n",
    "import seaborn as sns\n",
    "import pandas as pd\n",
    "import numpy as np\n",
    "\n",
    "# Set default plotting style.\n",
    "sns.set()\n",
    "\n",
    "# Setup Jupyter notebook (warning: this may affect all Jupyter notebooks running on the same Jupyter server).\n",
    "u5.setup_jupyter()\n",
    "\n",
    "# Check minimum versions.\n",
    "u5.check_module_versions()"
   ]
  },
  {
   "cell_type": "markdown",
   "metadata": {},
   "source": [
    "<h2>Language Model Training and Evaluation</h2>"
   ]
  },
  {
   "cell_type": "markdown",
   "metadata": {},
   "source": [
    "<h3 style=\"color:rgb(0,120,170)\">Data & Dictionary Preperation</h3>"
   ]
  },
  {
   "cell_type": "markdown",
   "metadata": {},
   "source": [
    "<div class=\"alert alert-warning\">\n",
    "    <b>Exercise 1. [20 Points]</b>\n",
    "        <ul>\n",
    "            <li>Setup the data set using the same parameter settings as in the main exercise notebook.</li>\n",
    "            <li>Change the batch size in the initial parameters to 64 and observe its effect on the created batches. Explain how the corpora are transformed into batches.</li>\n",
    "            <li>For a specific sequence in <code>train_data_splits</code> (e.g. 5), print the corresponding words of its first 20 wordIDs.</li>\n",
    "        </ul>\n",
    "</div>"
   ]
  },
  {
   "cell_type": "code",
   "execution_count": 3,
   "metadata": {},
   "outputs": [],
   "source": [
    "data_path = os.path.join(\"resources\", \"penn\")\n",
    "save_path = 'model.pt'\n",
    "\n",
    "batch_size = 64\n",
    "max_seq_len = 40\n",
    "\n",
    "seed = 1111\n",
    "torch.manual_seed(seed)\n",
    "device = torch.device('cuda' if torch.cuda.is_available() else 'cpu')"
   ]
  },
  {
   "cell_type": "code",
   "execution_count": 4,
   "metadata": {},
   "outputs": [],
   "source": [
    "train_corpus = u5.Corpus(os.path.join(data_path, 'train.txt'))\n",
    "valid_corpus = u5.Corpus(os.path.join(data_path, 'valid.txt'))\n",
    "test_corpus = u5.Corpus(os.path.join(data_path, 'test.txt'))\n",
    "\n",
    "dictionary = u5.Dictionary()\n",
    "train_corpus.fill_dictionary(dictionary)\n",
    "ntokens = len(dictionary)"
   ]
  },
  {
   "cell_type": "code",
   "execution_count": 5,
   "metadata": {},
   "outputs": [],
   "source": [
    "train_data = train_corpus.words_to_ids(dictionary)\n",
    "valid_data = valid_corpus.words_to_ids(dictionary)\n",
    "test_data = test_corpus.words_to_ids(dictionary)\n",
    "\n",
    "train_data_splits = u5.batchify(train_data, batch_size, device)\n",
    "val_data_splits = u5.batchify(valid_data, batch_size, device)\n",
    "test_data_splits = u5.batchify(test_data, batch_size, device)"
   ]
  },
  {
   "cell_type": "code",
   "execution_count": 6,
   "metadata": {},
   "outputs": [
    {
     "data": {
      "text/plain": [
       "'ipo with the exemption another latest would compromise <eos> new gas miniscribe many no concern world <unk> that thousands indian'"
      ]
     },
     "execution_count": 6,
     "metadata": {},
     "output_type": "execute_result"
    }
   ],
   "source": [
    "' '.join([dictionary.idx2word[i] for i in train_data_splits[10].tolist()[:20]])"
   ]
  },
  {
   "cell_type": "code",
   "execution_count": 7,
   "metadata": {},
   "outputs": [],
   "source": [
    "# - The Corpus Class first read the document(s) and replace the \"end of line\" with a \"<eos>\".\n",
    "# - It then collects every [unique] word in the document and adds it to a dictionary as a key with a corresponding number as value."
   ]
  },
  {
   "cell_type": "markdown",
   "metadata": {},
   "source": [
    "<div class=\"alert alert-warning\">\n",
    "    <b>Exercise 2. [20 Points]</b>\n",
    "        <ul>\n",
    "            <li>Copy the implementation of <code>LM_LSTMModel</code> from the main exercise notebook.</li>\n",
    "            <li>Add a new bool parameter to <code>LM_LSTMModel</code>'s initialization, called <code>tie_weights</code> with default value set to <code>False</code>. Extend the implementation of <code>LM_LSTMModel</code> such that if <code>tie_weights</code> is set to <code>True</code>, the model ties/shares the parameters of <code>encoder</code> with the ones of <code>decoder</code>. Consider that <code>encoder</code> and <code>decoder</code> still remain separate components but their parameters are now the same (shared). This process is called <i>weight tying</i>. Feel free to search the internet for relevant resources and implementation hints.</li>\n",
    "            <li>Create two models: one with and the other without weight tying. Compare the number of parameters of the models using the same settings and report your observations.</li>\n",
    "        </ul>\n",
    "</div>"
   ]
  },
  {
   "cell_type": "code",
   "execution_count": 8,
   "metadata": {},
   "outputs": [],
   "source": [
    "class LM_LSTMModel(torch.nn.Module):\n",
    "\n",
    "    def __init__(self, ntoken, ninp, nhid, tie_weights=False):\n",
    "        super(LM_LSTMModel, self).__init__()\n",
    "        self.tie_weights = tie_weights\n",
    "        self.ntoken = ntoken\n",
    "        self.encoder = torch.nn.Embedding(ntoken, ninp) # matrix E in the figure\n",
    "        self.rnn = torch.nn.LSTM(ninp, nhid)\n",
    "        self.decoder = torch.nn.Linear(nhid, ntoken) # matrix U in the figure\n",
    "\n",
    "        if tie_weights:\n",
    "            if ninp != nhid:\n",
    "                raise ValueError('Number of inputs should equal to number of hiddens')\n",
    "            self.decoder.weight = self.encoder.weight\n",
    "            \n",
    "        self.init_weights()\n",
    "        self.nhid = nhid\n",
    "\n",
    "    def init_weights(self):\n",
    "        initrange = 0.1\n",
    "        self.encoder.weight.data.uniform_(-initrange, initrange)\n",
    "        self.decoder.bias.data.zero_()\n",
    "        self.decoder.weight.data.uniform_(-initrange, initrange)\n",
    "\n",
    "        \n",
    "    def init_hidden(self, bsz):\n",
    "        weight = next(self.parameters())\n",
    "        return (weight.new_zeros(1, bsz, self.nhid),\n",
    "                weight.new_zeros(1, bsz, self.nhid))\n",
    "\n",
    "    def forward(self, input, hidden, return_logs=True):\n",
    "\n",
    "        emb = self.encoder(input)\n",
    "        hiddens, last_hidden = self.rnn(emb, hidden)\n",
    "        \n",
    "        decoded = self.decoder(hiddens)\n",
    "\n",
    "        if return_logs:\n",
    "            y_hat = torch.nn.LogSoftmax(dim=-1)(decoded)\n",
    "        else:\n",
    "            y_hat = torch.nn.Softmax(dim=-1)(decoded)\n",
    "#         ipdb.set_trace()\n",
    "\n",
    "        return y_hat, last_hidden"
   ]
  },
  {
   "cell_type": "code",
   "execution_count": 9,
   "metadata": {},
   "outputs": [
    {
     "name": "stdout",
     "output_type": "stream",
     "text": [
      "Untied Model: LM_LSTMModel(\n",
      "  (encoder): Embedding(10001, 400)\n",
      "  (rnn): LSTM(400, 400)\n",
      "  (decoder): Linear(in_features=400, out_features=10001, bias=True)\n",
      ")\n",
      "\t\tModel total parameters: 9294001\n",
      "\t\tModel total trainable parameters: 9294001\n",
      "\n",
      "\n",
      "Tied Model: LM_LSTMModel(\n",
      "  (encoder): Embedding(10001, 400)\n",
      "  (rnn): LSTM(400, 400)\n",
      "  (decoder): Linear(in_features=400, out_features=10001, bias=True)\n",
      ")\n",
      "\t\tModel total parameters: 5293601\n",
      "\t\tModel total trainable parameters: 5293601\n"
     ]
    }
   ],
   "source": [
    "emsize = 400\n",
    "nhid = 400\n",
    "\n",
    "untied = LM_LSTMModel(ntokens, emsize, nhid)\n",
    "untied.to(device)\n",
    "\n",
    "print(f'Untied Model: {untied}')\n",
    "print(f'\\t\\tModel total parameters: {sum(p.numel() for p in untied.parameters())}')\n",
    "print(f'\\t\\tModel total trainable parameters: {sum(p.numel() for p in untied.parameters() if p.requires_grad)}\\n\\n')\n",
    "\n",
    "tied = LM_LSTMModel(ntokens, emsize, nhid, tie_weights=True)\n",
    "tied.to(device)\n",
    "\n",
    "print(f'Tied Model: {tied}')\n",
    "print(f'\\t\\tModel total parameters: {sum(p.numel() for p in tied.parameters())}')\n",
    "print(f'\\t\\tModel total trainable parameters: {sum(p.numel() for p in tied.parameters() if p.requires_grad)}')"
   ]
  },
  {
   "cell_type": "code",
   "execution_count": 10,
   "metadata": {},
   "outputs": [],
   "source": [
    "# The Un-Tied Model has a total parameters of around 9.3 million while the Tied Model has a total parameters of 5.3 Million\n",
    "# This is due to the fact that in the tied model, the decoder reuses the parameters of the encoder instead of creating a new\n",
    "# matrix, which decreases the number of the parameters drastically, but imposes some resterictions as the embedding size should\n",
    "# equal to the number of hiddens \"for the matrix multiplication to be valid\".\n",
    "\n",
    "# This is argued to improve the output of the language models while maintaining lower number of parameters \"more memory effecient\"\n",
    "# But this wouldn't affect the training \"time\" as it will have to update \"the gradients\" for the decoder but using the shared\n",
    "# parameters\n",
    "\n",
    "# According to:\n",
    "# https://arxiv.org/abs/1608.05859v3"
   ]
  },
  {
   "cell_type": "markdown",
   "metadata": {},
   "source": [
    "<h3 style=\"color:rgb(0,120,170)\">Training and Evaluation</h3>\n"
   ]
  },
  {
   "cell_type": "markdown",
   "metadata": {},
   "source": [
    "<div class=\"alert alert-warning\">\n",
    "    <b>Exercise 3. [30 Points]</b>\n",
    "        <ul>\n",
    "            <li>Train a model with and without weight tying for at least $10$ epochs.\n",
    "            <li>Using <code>ipdb</code>, look inside the <code>forward</code> function of <code>LM_LSTMModel</code> during training. Check the forward process from input to output particularly by looking at the shapes of tensors. Report the shape of all tensors used in <code>forward</code>. Try to translate the numbers into batches $B$ and sequence length $L$. For instance, if we know that the batch size is $B=32$, a tensor of shape $(32, 128, 3)$ can be interpreted as a batch of $32$ sequences with $3$ channels of size $L=128$. Thus, this tensor can be translated into $(32, 128, 3) \\rightarrow (B, L, 3)$.\n",
    "            Look at the <a href=\"https://pytorch.org/docs/stable/generated/torch.nn.LSTM.html?highlight=lstm#torch.nn.LSTM\">official documentation</a> to understand the order of the dimensions.\n",
    "            </li>\n",
    "            <li>Evaluate the models. Compare the performances of both models (with and without weight tying) on train, validation and test set, and report your observations. To do so, create a plot displaying the following curves:\n",
    "            <ul>\n",
    "            <li>loss on each current training batch before every model update step as function of epochs</li>\n",
    "            <li>loss on the validation set at every epoch</li>\n",
    "            </ul>\n",
    "            In addition, include corresponding <a href=\"https://matplotlib.org/stable/api/_as_gen/matplotlib.pyplot.semilogy.html\">semilogy</a> plots of the perplexity.</li>\n",
    "        </ul>\n",
    "</div>"
   ]
  },
  {
   "cell_type": "code",
   "execution_count": 11,
   "metadata": {},
   "outputs": [],
   "source": [
    "CUT_AFTER_BATCHES = -1\n",
    "epochs = 1\n",
    "print_interval = 363\n",
    "\n",
    "\n",
    "def train(model: torch.nn.Module, optimizer: torch.optim.Optimizer, dictionary: u5.Dictionary,\n",
    "          max_seq_len: int, train_batch_size: int, train_data_splits,\n",
    "          clipping: float, learning_rate: float, print_interval: int, epoch: int):\n",
    "    \"\"\"\n",
    "    Train the model. Training mode turned on to enable dropout.\n",
    "    \"\"\"\n",
    "    model.train()\n",
    "    total_loss = 0.0\n",
    "    start_time = time.time()\n",
    "    ntokens = len(dictionary)\n",
    "    start_hidden = model.init_hidden(train_batch_size)\n",
    "    \n",
    "    for batch_i, i in enumerate(range(0, train_data_splits.size(0) - 1, max_seq_len)):\n",
    "        batch_data, batch_targets = u5.get_batch(train_data_splits, i, max_seq_len)\n",
    "        # ipdb.set_trace()\n",
    "\n",
    "        optimizer.zero_grad()\n",
    "        \n",
    "        start_hidden = u5.repackage_hidden(start_hidden)\n",
    "        \n",
    "        y_hat_logprobs, last_hidden = model(batch_data, start_hidden, return_logs=True)\n",
    "        \n",
    "        y_hat_logprobs = y_hat_logprobs.view(-1, ntokens)\n",
    "        loss = torch.nn.NLLLoss()(y_hat_logprobs, batch_targets.view(-1))\n",
    "        loss.backward()\n",
    "\n",
    "        start_hidden = last_hidden\n",
    "\n",
    "        torch.nn.utils.clip_grad_norm_(model.parameters(), clipping)\n",
    "        \n",
    "        optimizer.step()\n",
    "        \n",
    "        total_loss += loss.item()\n",
    "\n",
    "        if batch_i % print_interval == 0 and batch_i > 0:\n",
    "            cur_loss = total_loss / print_interval\n",
    "            elapsed = time.time() - start_time\n",
    "            print('| epoch {:3d} | {:5d}/{:5d} batches | lr {:02.2f} | ms/batch {:5.2f} | '\n",
    "                  'loss {:5.2f} | perplexity {:8.2f}'.format(\n",
    "                epoch, batch_i, (train_data_splits.size(0) - 1) // max_seq_len, learning_rate,\n",
    "                              elapsed * 1000 / print_interval, cur_loss, math.exp(cur_loss)))\n",
    "            train_loss = total_loss\n",
    "            total_loss = 0\n",
    "            start_time = time.time()\n",
    "\n",
    "        if (CUT_AFTER_BATCHES != -1) and (batch_i >= CUT_AFTER_BATCHES):\n",
    "            print(\"WARNING: Training is interrupted after %d batches\" % batch_i)\n",
    "            break\n",
    "    return train_loss"
   ]
  },
  {
   "cell_type": "code",
   "execution_count": 12,
   "metadata": {},
   "outputs": [
    {
     "name": "stdout",
     "output_type": "stream",
     "text": [
      "| epoch   0 |   363/  363 batches | lr 20.00 | ms/batch 28.78 | loss  5.87 | perplexity   355.35\n",
      "-----------------------------------------------------------------------------------------\n",
      "| end of epoch   0 | time: 10.70s| valid loss  5.41 | valid perplexity   222.54\n",
      "-----------------------------------------------------------------------------------------\n"
     ]
    }
   ],
   "source": [
    "# Untied Model\n",
    "torch.manual_seed(seed)\n",
    "\n",
    "lr = 20  # initial learning rate\n",
    "clipping = 0.25  # gradient clipping\n",
    "optimizer = torch.optim.SGD(untied.parameters(), lr=lr, momentum=0.9)\n",
    "\n",
    "untied_trn_losses = []\n",
    "untied_val_losses = []\n",
    "best_val_loss = None\n",
    "\n",
    "# Loop over epochs.\n",
    "for epoch in range(epochs):\n",
    "    epoch_start_time = time.time()\n",
    "    train_loss = train(untied, optimizer, dictionary, max_seq_len, batch_size, train_data_splits, clipping, lr, print_interval, epoch)\n",
    "    val_loss = u5.evaluate(untied, dictionary, max_seq_len, batch_size, val_data_splits, torch.nn.NLLLoss())\n",
    "    \n",
    "    untied_trn_losses.append(train_loss)\n",
    "    untied_val_losses.append(val_loss)\n",
    "    \n",
    "    print('-' * 89)\n",
    "    print(f'| end of epoch {epoch :3d} | time: {time.time() - epoch_start_time :5.2f}s' \n",
    "          f'| valid loss {val_loss :5.2f} | valid perplexity {math.exp(val_loss):8.2f}')\n",
    "    print('-' * 89)\n",
    "    \n",
    "    # Save the model if the validation loss is the best we've seen so far.\n",
    "    if not best_val_loss or val_loss < best_val_loss:\n",
    "        with open(save_path, 'wb') as f:\n",
    "            torch.save(untied, f)\n",
    "        best_val_loss = val_loss\n",
    "    else:\n",
    "        # Anneal the learning rate if no improvement has been seen in the validation dataset.\n",
    "        lr /= 4.0\n",
    "        for g in optimizer.param_groups:\n",
    "            g['lr'] = lr"
   ]
  },
  {
   "cell_type": "code",
   "execution_count": 13,
   "metadata": {},
   "outputs": [],
   "source": [
    "# ipdb> input.shape\n",
    "# torch.Size([40, 64])\n",
    "# ipdb> hiddens.shape\n",
    "# torch.Size([40, 64, 400])\n",
    "# ipdb> decoded.shape\n",
    "# torch.Size([40, 64, 10001])\n",
    "# ipdb> y_hat.shape\n",
    "# torch.Size([40, 64, 10001])\n",
    "# ipdb> exit\n",
    "\n",
    "# Input Shape is (40, 64) -> (Sequence Length, Batch Size)\n",
    "# Hiddens Shape is (40, 64, 400) -> (Sequence Length * 1 \"Not BiDirectional\", Batch Size, Hidden Size)\n",
    "# Output Shape is (40, 64, 10001) -> (Sequence Length * 1, Batch Size, Number of Tokens \"Number of unique words in the dict\")"
   ]
  },
  {
   "cell_type": "code",
   "execution_count": 14,
   "metadata": {},
   "outputs": [
    {
     "name": "stdout",
     "output_type": "stream",
     "text": [
      "| epoch   0 |   363/  363 batches | lr 20.00 | ms/batch 24.78 | loss  5.80 | perplexity   331.35\n",
      "-----------------------------------------------------------------------------------------\n",
      "| end of epoch   0 | time:  9.23s| valid loss  5.42 | valid perplexity   226.15\n",
      "-----------------------------------------------------------------------------------------\n"
     ]
    }
   ],
   "source": [
    "# Tied Model\n",
    "torch.manual_seed(seed)\n",
    "\n",
    "lr = 20  # initial learning rate\n",
    "clipping = 0.25  # gradient clipping\n",
    "optimizer = torch.optim.SGD(tied.parameters(), lr=lr, momentum=0.9)\n",
    "\n",
    "tied_trn_losses = []\n",
    "tied_val_losses = []\n",
    "best_val_loss = None\n",
    "\n",
    "# Loop over epochs.\n",
    "for epoch in range(epochs):\n",
    "    epoch_start_time = time.time()\n",
    "    train_loss = train(tied, optimizer, dictionary, max_seq_len, batch_size, train_data_splits, clipping, lr, print_interval, epoch)\n",
    "    val_loss = u5.evaluate(tied, dictionary, max_seq_len, batch_size, val_data_splits, torch.nn.NLLLoss())\n",
    "    \n",
    "    tied_trn_losses.append(train_loss)\n",
    "    tied_val_losses.append(val_loss)\n",
    "    print('-' * 89)\n",
    "    print(f'| end of epoch {epoch :3d} | time: {time.time() - epoch_start_time :5.2f}s' \n",
    "          f'| valid loss {val_loss :5.2f} | valid perplexity {math.exp(val_loss):8.2f}')\n",
    "    print('-' * 89)\n",
    "    \n",
    "    # Save the model if the validation loss is the best we've seen so far.\n",
    "    if not best_val_loss or val_loss < best_val_loss:\n",
    "        with open(save_path, 'wb') as f:\n",
    "            torch.save(tied, f)\n",
    "        best_val_loss = val_loss\n",
    "    else:\n",
    "        # Anneal the learning rate if no improvement has been seen in the validation dataset.\n",
    "        lr /= 4.0\n",
    "        for g in optimizer.param_groups:\n",
    "            g['lr'] = lr"
   ]
  },
  {
   "cell_type": "code",
   "execution_count": 15,
   "metadata": {},
   "outputs": [],
   "source": [
    "# ipdb> input.shape\n",
    "# torch.Size([40, 64])\n",
    "# ipdb> hiddens.shape\n",
    "# torch.Size([40, 64, 400])\n",
    "# ipdb> decoded.shape\n",
    "# torch.Size([40, 64, 10001])\n",
    "# ipdb> y_hat.shape\n",
    "# torch.Size([40, 64, 10001])\n",
    "# ipdb> exit\n",
    "\n",
    "# Input Shape is (40, 64) -> (Sequence Length, Batch Size)\n",
    "# Hiddens Shape is (40, 64, 400) -> (Sequence Length * 1 \"Not BiDirectional\", Batch Size, Hidden Size)\n",
    "# Output Shape is (40, 64, 10001) -> (Sequence Length * 1, Batch Size, Number of Tokens \"Number of unique words in the dict\")"
   ]
  },
  {
   "cell_type": "code",
   "execution_count": 16,
   "metadata": {},
   "outputs": [
    {
     "name": "stdout",
     "output_type": "stream",
     "text": [
      "Untied\n",
      "\tTest Loss:\t\t5.372311121197548\n",
      "\tTest Perplexity:\t\t  215.36\n",
      "\n",
      "Tied\n",
      "\tTest Loss:\t\t5.375822997204438\n",
      "\tTest Perplexity:\t\t  216.12\n",
      "\n",
      "\n"
     ]
    },
    {
     "data": {
      "image/png": "[encoded data removed]",
      "text/plain": [
       "<Figure size 1500x300 with 4 Axes>"
      ]
     },
     "metadata": {},
     "output_type": "display_data"
    }
   ],
   "source": [
    "untied_curves = {'training': np.asarray(untied_trn_losses)}\n",
    "untied_curves['validation'] = np.asarray(untied_val_losses)\n",
    "untied_df = pd.DataFrame(untied_curves, index=np.arange(1, epochs + 1))\n",
    "untied_test_eval = u5.evaluate(untied, dictionary, max_seq_len, batch_size, test_data_splits, torch.nn.NLLLoss())\n",
    "untied_perplexity = untied_df.apply(np.exp)\n",
    "print(f'Untied\\n\\tTest Loss:\\t\\t{untied_test_eval}\\n\\tTest Perplexity:\\t\\t{math.exp(untied_test_eval):8.2f}\\n')\n",
    "\n",
    "tied_curves = {'training': np.asarray(tied_trn_losses)}\n",
    "tied_curves['validation'] = np.asarray(tied_val_losses)\n",
    "tied_df = pd.DataFrame(tied_curves, index=np.arange(1, epochs + 1))\n",
    "tied_test_eval = u5.evaluate(tied, dictionary, max_seq_len, batch_size, test_data_splits, torch.nn.NLLLoss())\n",
    "tied_perplexity = tied_df.apply(np.exp)\n",
    "print(f'Tied\\n\\tTest Loss:\\t\\t{tied_test_eval}\\n\\tTest Perplexity:\\t\\t{math.exp(tied_test_eval):8.2f}\\n\\n')\n",
    "\n",
    "\n",
    "fig = plt.figure(figsize=(15,3))\n",
    "fig.subplots_adjust(top=3)\n",
    "\n",
    "ax1 = fig.add_subplot(221)\n",
    "ax1.set_title('UN-Tied Losses')\n",
    "untied_df['training'] = untied_df['training'] / 363\n",
    "line1 = ax1.plot(untied_df)\n",
    "point1 = ax1.scatter(len(untied_trn_losses), [untied_test_eval])\n",
    "\n",
    "ax2 = fig.add_subplot(222)\n",
    "ax2.set_title('Tied Losses')\n",
    "tied_df['training'] = tied_df['training'] / 363\n",
    "line2 = ax2.plot(tied_df)\n",
    "point2 = ax2.scatter(len(tied_trn_losses), [tied_test_eval])\n",
    "\n",
    "ax3 = fig.add_subplot(223)\n",
    "ax3.grid(True, which =\"both\")\n",
    "ax3.set_title('UN-Tied Preplexity')\n",
    "ax3.semilogy(untied_perplexity)\n",
    "point3 = ax3.scatter(len(untied_trn_losses), [math.exp(untied_test_eval)])\n",
    "\n",
    "ax4 = fig.add_subplot(224)\n",
    "ax4.grid(True, which =\"both\")\n",
    "ax4.set_title('Tied Perplexity')\n",
    "ax4.semilogy(tied_perplexity)\n",
    "point4 = ax4.scatter(len(tied_trn_losses), [math.exp(tied_test_eval)])\n",
    "\n",
    "plt.show()"
   ]
  },
  {
   "cell_type": "code",
   "execution_count": 17,
   "metadata": {},
   "outputs": [],
   "source": [
    "# Both Models Seems to converge very similarly with the fact that Tied-Weights Model consume half the memory of the UnTied Weights\n",
    "# Model, Also The Tied model seems to out-perform the Untied model with a small margin \"Was Tested on different hidden/input sizes\"\n",
    "# But Both Models seems to spend almost the same amount of time during training, thus its not an actual speed-up.\n",
    "# As for the Over-fitting problem, Both models seem to suffer from the same problem but the Tied-Model \"On Different sizes\"\n",
    "# Sometimes slightly help in overcomming this problem \"With an Early Stopping in place\"."
   ]
  },
  {
   "cell_type": "markdown",
   "metadata": {},
   "source": [
    "<h2>Language Generation</h2>"
   ]
  },
  {
   "cell_type": "markdown",
   "metadata": {},
   "source": [
    "<div class=\"alert alert-warning\">\n",
    "    <b>Exercise 4. [30 Points]</b>\n",
    "    <p>\n",
    "    Copy the language generation code from the main exercise notebook and perform the following tasks:\n",
    "    </p>\n",
    "        <ul>\n",
    "            <li>Compare both previous models by generating $10$ words that append the sequence <tt>\"Yesterday I\"</tt>.</li>\n",
    "            <li>For each model, retrieve the top-10 wordIDs with the highest probabilities from the generated probability distribution (<code>prob_dist</code>) of the last known word (i.e. <tt>\"I\"</tt>). Fetch the corresponding words of these wordIDs. Do you observe any specific linguistic characteristic common between these words?</li>\n",
    "            <li>The implementation in the main exercise notebook is based on sampling. Implement a deterministic variant based on the top-1 approach. In this particular variant, the generated word is the word with the highest probability in the predicted probability distribution.</li>\n",
    "        </ul>\n",
    "</div>"
   ]
  },
  {
   "cell_type": "code",
   "execution_count": 18,
   "metadata": {},
   "outputs": [],
   "source": [
    "def generate(untied, START_WORD=\"Yesterday I\", GENERATION_LENGTH=10):\n",
    "    GENERATION_LENGTH = 10\n",
    "    START_WORD = \"Yesterday I\"\n",
    "\n",
    "    start_hidden = untied.init_hidden(1)\n",
    "    START_WORDS = START_WORD.lower()\n",
    "    START_WORDS = START_WORDS.split(' ')[-1]\n",
    "\n",
    "    generated_text = START_WORD\n",
    "\n",
    "    with torch.no_grad():\n",
    "        wordid_inputs = [dictionary.word2idx[x] for x in START_WORDS]\n",
    "        untied_generated_words, untied_top_words = [START_WORDS],  []\n",
    "\n",
    "        for i in range(0, GENERATION_LENGTH):\n",
    "            data = u5.batchify(torch.tensor(wordid_inputs), 1, device)\n",
    "            y_hat_probs, last_hidden = untied(data, start_hidden, return_logs=False)\n",
    "\n",
    "            prob_dist = torch.distributions.Categorical(y_hat_probs.squeeze())\n",
    "            wordid_inputs = [torch.argmax(prob_dist.probs)]\n",
    "\n",
    "            topk = torch.topk(prob_dist.probs, 10)[-1]\n",
    "            untied_top_words.append([dictionary.idx2word[x] for x in topk])\n",
    "\n",
    "            word_generated = dictionary.idx2word[wordid_inputs[-1]]\n",
    "            untied_generated_words.append(*[dictionary.idx2word[x] for x in wordid_inputs])\n",
    "\n",
    "            generated_text += \" \" + word_generated\n",
    "\n",
    "            start_hidden = last_hidden\n",
    "\n",
    "    untied_words_gen = pd.DataFrame(np.array(untied_generated_words), columns=['initial'])\n",
    "\n",
    "    untied_words_gen = pd.concat([untied_words_gen, pd.DataFrame(np.array(untied_top_words))], axis=1)\n",
    "    return (generated_text, untied_words_gen)"
   ]
  },
  {
   "cell_type": "code",
   "execution_count": 19,
   "metadata": {},
   "outputs": [
    {
     "name": "stdout",
     "output_type": "stream",
     "text": [
      "Untied Model produced:\t\tYesterday I 've been <unk> <eos> the <unk> <unk> <unk> <unk> <unk>\n",
      "Tied Model produced:\t\tYesterday I 've been <unk> <eos> the <unk> <unk> <unk> <unk> <unk>\n",
      "\n",
      "\n",
      "The Highest Probabilities by Word -UNTIED-\n",
      "   initial      0      1      2      3               4      5      6  \\\n",
      "0        i    've     'm     do  think              'd    'll  would   \n",
      "1      've   been     to   made    had           <unk>   seen    yet   \n",
      "2     been  <unk>    not  going     an               a   used   more   \n",
      "3    <unk>  <eos>     in   with     to             for     on    the   \n",
      "4    <eos>    the     in    but      i             mr.  <unk>      a   \n",
      "5      the  <unk>    new  house   u.s.  administration  white   bill   \n",
      "6    <unk>  <unk>    was   will     of             are     is    has   \n",
      "7    <unk>  <unk>    the     of  <eos>             and      a     in   \n",
      "8    <unk>  <unk>  <eos>    the     in             and      a     to   \n",
      "9    <unk>  <unk>  <eos>    the    and              in      a     to   \n",
      "10   <unk>    NaN    NaN    NaN    NaN             NaN    NaN    NaN   \n",
      "\n",
      "            7           8         9  \n",
      "0         can        feel       did  \n",
      "1           a       never    always  \n",
      "2        able    expected      made  \n",
      "3          by       <unk>        as  \n",
      "4          he          it       and  \n",
      "5   committee  government  japanese  \n",
      "6         the        said       and  \n",
      "7        that         mr.        to  \n",
      "8          of        that        on  \n",
      "9          of          on      that  \n",
      "10        NaN         NaN       NaN   \n",
      "\n",
      "\n",
      "The Highest Probabilities by Word -TIED-\n",
      "   initial      0      1      2         3      4      5         6          7  \\\n",
      "0        i    've     do     'm     think     'd  <unk>       and        was   \n",
      "1      've   been   seen   made     <unk>    got  never    become       said   \n",
      "2     been  <unk>   more   used  expected  <eos>    and  approved         on   \n",
      "3    <unk>  <eos>     in    the     <unk>     as    and      with         by   \n",
      "4    <eos>    the  <unk>    but       mr.     in   they         i        and   \n",
      "5      the  <unk>    new  issue     house      $   u.s.      bill  committee   \n",
      "6    <unk>  <unk>    and    was        is    the    are      will       said   \n",
      "7    <unk>  <unk>    and    was       the     is    are      will       said   \n",
      "8    <unk>  <unk>    and    was       the     is    are      will         of   \n",
      "9    <unk>  <unk>    and    was       the    are     is      will      <eos>   \n",
      "10   <unk>    NaN    NaN    NaN       NaN    NaN    NaN       NaN        NaN   \n",
      "\n",
      "           8           9  \n",
      "0       feel         'll  \n",
      "1       more         had  \n",
      "2       made  considered  \n",
      "3        for          to  \n",
      "4         it          we  \n",
      "5   japanese           N  \n",
      "6         of           a  \n",
      "7         of       <eos>  \n",
      "8       said       <eos>  \n",
      "9         of        said  \n",
      "10       NaN         NaN  \n"
     ]
    }
   ],
   "source": [
    "untied_gen, untied_top_words = generate(untied)\n",
    "tied_gen, tied_top_words = generate(tied)\n",
    "\n",
    "print(f'Untied Model produced:\\t\\t{untied_gen}')\n",
    "print(f'Tied Model produced:\\t\\t{tied_gen}\\n\\n')\n",
    "\n",
    "print('The Highest Probabilities by Word -UNTIED-')\n",
    "print(untied_top_words, '\\n\\n')\n",
    "\n",
    "print('The Highest Probabilities by Word -TIED-')\n",
    "print(tied_top_words)"
   ]
  },
  {
   "cell_type": "code",
   "execution_count": 20,
   "metadata": {},
   "outputs": [],
   "source": [
    "def generate_samples(untied, START_WORD=\"Yesterday I\", GENERATION_LENGTH=10):\n",
    "    GENERATION_LENGTH = 10\n",
    "    START_WORD = \"Yesterday I\"\n",
    "\n",
    "    start_hidden = untied.init_hidden(1)\n",
    "    START_WORDS = START_WORD.lower()\n",
    "    START_WORDS = START_WORDS.split(' ')[-1]\n",
    "\n",
    "    generated_text = START_WORD\n",
    "\n",
    "    with torch.no_grad():\n",
    "        wordid_inputs = [dictionary.word2idx[x] for x in START_WORDS]\n",
    "        untied_generated_words, untied_top_words = [START_WORDS],  []\n",
    "\n",
    "        for i in range(0, GENERATION_LENGTH):\n",
    "            data = u5.batchify(torch.tensor(wordid_inputs), 1, device)\n",
    "            y_hat_probs, last_hidden = untied(data, start_hidden, return_logs=False)\n",
    "\n",
    "            prob_dist = torch.distributions.Categorical(y_hat_probs.squeeze())\n",
    "            wordid_inputs = [prob_dist.sample()]\n",
    "            print(prob_dist)\n",
    "#             wordid_inputs = [torch.argmax(prob_dist.probs)]\n",
    "\n",
    "            topk = torch.topk(prob_dist.probs, 10)[-1]\n",
    "            untied_top_words.append([dictionary.idx2word[x] for x in topk])\n",
    "\n",
    "            word_generated = dictionary.idx2word[wordid_inputs[-1]]\n",
    "            untied_generated_words.append(*[dictionary.idx2word[x] for x in wordid_inputs])\n",
    "\n",
    "            generated_text += \" \" + word_generated\n",
    "\n",
    "            start_hidden = last_hidden\n",
    "\n",
    "    untied_words_gen = pd.DataFrame(np.array(untied_generated_words), columns=['initial'])\n",
    "\n",
    "    untied_words_gen = pd.concat([untied_words_gen, pd.DataFrame(np.array(untied_top_words))], axis=1)\n",
    "    return (generated_text, untied_words_gen)"
   ]
  },
  {
   "cell_type": "code",
   "execution_count": 21,
   "metadata": {},
   "outputs": [
    {
     "name": "stdout",
     "output_type": "stream",
     "text": [
      "Categorical(probs: torch.Size([10001]))\n",
      "Categorical(probs: torch.Size([10001]))\n",
      "Categorical(probs: torch.Size([10001]))\n",
      "Categorical(probs: torch.Size([10001]))\n",
      "Categorical(probs: torch.Size([10001]))\n",
      "Categorical(probs: torch.Size([10001]))\n",
      "Categorical(probs: torch.Size([10001]))\n",
      "Categorical(probs: torch.Size([10001]))\n",
      "Categorical(probs: torch.Size([10001]))\n",
      "Categorical(probs: torch.Size([10001]))\n",
      "Categorical(probs: torch.Size([10001]))\n",
      "Categorical(probs: torch.Size([10001]))\n",
      "Categorical(probs: torch.Size([10001]))\n",
      "Categorical(probs: torch.Size([10001]))\n",
      "Categorical(probs: torch.Size([10001]))\n",
      "Categorical(probs: torch.Size([10001]))\n",
      "Categorical(probs: torch.Size([10001]))\n",
      "Categorical(probs: torch.Size([10001]))\n",
      "Categorical(probs: torch.Size([10001]))\n",
      "Categorical(probs: torch.Size([10001]))\n",
      "Untied Model produced:\t\tYesterday I expect brokers items <eos> indeed a <unk> side programs wertheim\n",
      "Tied Model produced:\t\tYesterday I measures coin gotten fellow tobacco should identify any negative teaching\n",
      "\n",
      "\n",
      "The Highest Probabilities by Word -UNTIED-\n",
      "     initial      0      1      2      3      4      5       6          7  \\\n",
      "0          i    've     'm     do  think     'd    'll   would        can   \n",
      "1     expect    the      a     to  <unk>  <eos>   that     his         in   \n",
      "2    brokers  <eos>     to    and   with     in     on     for        who   \n",
      "3      items  <eos>     in    and     to   with    for     are       that   \n",
      "4      <eos>    the     in    but      i    mr.  <unk>     and          a   \n",
      "5     indeed    the     as     in  <unk>      a    mr.      he         it   \n",
      "6          a  <unk>    new    few  major      N      $  chance  spokesman   \n",
      "7      <unk>  <unk>      N   that    the     of     to     one         in   \n",
      "8       side     of  <unk>  <eos>     to    for     in     and       that   \n",
      "9   programs    are     in    the   that  <unk>   will      on        for   \n",
      "10  wertheim    NaN    NaN    NaN    NaN    NaN    NaN     NaN        NaN   \n",
      "\n",
      "       8      9  \n",
      "0   feel    did  \n",
      "1     an     it  \n",
      "2   said     as  \n",
      "3     on     as  \n",
      "4     he     it  \n",
      "5    you   they  \n",
      "6    lot   veto  \n",
      "7    mr.  court  \n",
      "8     he     on  \n",
      "9   this  <eos>  \n",
      "10   NaN    NaN   \n",
      "\n",
      "\n",
      "The Highest Probabilities by Word -TIED-\n",
      "     initial      0      1      2      3      4      5       6         7  \\\n",
      "0          i    've     do     'm  think     'd  <unk>     and       was   \n",
      "1   measures     to  <eos>    the  <unk>    and    for    that        in   \n",
      "2       coin  <eos>  <unk>    the     to   that    and      in         a   \n",
      "3     gotten    the     to     in  <eos>  <unk>      a    with       out   \n",
      "4     fellow  <unk>  <eos>    and    the     to    for      in        or   \n",
      "5    tobacco  <unk>  <eos>    and     to     tv    the  policy      care   \n",
      "6     should     be   have    n't  <unk>  <eos>    not    help      lead   \n",
      "7   identify    the  <unk>      a     an  their    his     its       any   \n",
      "8        any  <unk>   more  major   time  money   part     job  economic   \n",
      "9   negative  <unk>  <eos>    and   more     of     to     new      part   \n",
      "10  teaching    NaN    NaN    NaN    NaN    NaN    NaN     NaN       NaN   \n",
      "\n",
      "             8         9  \n",
      "0         feel       'll  \n",
      "1         will         a  \n",
      "2           of        on  \n",
      "3          for        by  \n",
      "4            a      with  \n",
      "5   operations     court  \n",
      "6        still      like  \n",
      "7         them      some  \n",
      "8          one       new  \n",
      "9           in  economic  \n",
      "10         NaN       NaN  \n"
     ]
    }
   ],
   "source": [
    "untied_gen, untied_top_words = generate_samples(untied)\n",
    "tied_gen, tied_top_words = generate_samples(tied)\n",
    "\n",
    "print(f'Untied Model produced:\\t\\t{untied_gen}')\n",
    "print(f'Tied Model produced:\\t\\t{tied_gen}\\n\\n')\n",
    "\n",
    "print('The Highest Probabilities by Word -UNTIED-')\n",
    "print(untied_top_words, '\\n\\n')\n",
    "\n",
    "print('The Highest Probabilities by Word -TIED-')\n",
    "print(tied_top_words)"
   ]
  },
  {
   "cell_type": "code",
   "execution_count": null,
   "metadata": {},
   "outputs": [],
   "source": [
    "# Using the High Probabily prediction generation it is clear that \"both\" models perform somehow good, as we consider the highest\n",
    "# probability as the next word, that generates a Not-Only Grammatically \"Somehow correct\" but also with some context involved,\n",
    "# which reflects that weight tying is a good practice in this situation, since it decreases the model size significantly, while\n",
    "# yielding some better results.\n",
    "\n",
    "# Gramatical Coherence in both models can be observed,\n",
    "# For example it's normal that after \"I\" there generally comes a \"verb Be/Can/Have\" and after a \"verb\" usually comes a \"noun\" etc.\n",
    "# and since the dataset is somehow biased towards the financial sector, it can be observed that the context is also influenced by\n",
    "# this fact."
   ]
  },
  {
   "cell_type": "code",
   "execution_count": null,
   "metadata": {},
   "outputs": [],
   "source": []
  }
 ],
 "metadata": {
  "kernelspec": {
   "display_name": "Python 3 (ipykernel)",
   "language": "python",
   "name": "python3"
  },
  "language_info": {
   "codemirror_mode": {
    "name": "ipython",
    "version": 3
   },
   "file_extension": ".py",
   "mimetype": "text/x-python",
   "name": "python",
   "nbconvert_exporter": "python",
   "pygments_lexer": "ipython3",
   "version": "3.10.9"
  }
 },
 "nbformat": 4,
 "nbformat_minor": 4
}
