{
 "cells": [
  {
   "cell_type": "markdown",
   "id": "b68c2d19",
   "metadata": {},
   "source": [
    "Name | Matr.Nr. | Due Date\n",
    ":--- | ---: | ---:\n",
    "Mohamed Abdelaziz | 12137202 | 24.06.2022, 08:00"
   ]
  },
  {
   "cell_type": "markdown",
   "id": "064bab9b",
   "metadata": {},
   "source": [
    "<h1 style=\"color:rgb(0,120,170)\">Hands-on AI II</h1>\n",
    "<h2 style=\"color:rgb(0,120,170)\">Unit 6 &ndash; Introduction to Reinforcement Learning (Assignment)</h2>"
   ]
  },
  {
   "cell_type": "markdown",
   "id": "2c053aae",
   "metadata": {},
   "source": [
    "<b>Authors:</b> B. Schäfl, S. Lehner, J. Brandstetter, E. Kobler<br>\n",
    "<b>Date:</b> 30-05-2022\n",
    "\n",
    "This file is part of the \"Hands-on AI II\" lecture material. The following copyright statement applies to all code within this file.\n",
    "\n",
    "<b>Copyright statement:</b><br>\n",
    "This material, no matter whether in printed or electronic form, may be used for personal and non-commercial educational use only. Any reproduction of this material, no matter whether as a whole or in parts, no matter whether in printed or in electronic form, requires explicit prior acceptance of the authors."
   ]
  },
  {
   "cell_type": "markdown",
   "id": "60ad5dc6",
   "metadata": {},
   "source": [
    "<h3 style=\"color:rgb(0,120,170)\">How to use this notebook</h3>\n",
    "\n",
    "This notebook is designed to run from start to finish. There are different tasks (displayed in <span style=\"color:rgb(248,138,36)\">orange boxes</span>) which require your contribution (in form of code, plain text, ...). Most/All of the supplied functions are imported from the file <code>u6_utils.py</code> which can be seen and treated as a black box. However, for further understanding, you can look at the implementations of the helper functions. In order to run this notebook, the packages which are imported at the beginning of <code>u6_utils.py</code> need to be installed."
   ]
  },
  {
   "cell_type": "code",
   "execution_count": 1,
   "id": "b2fb7ba8",
   "metadata": {},
   "outputs": [
    {
     "name": "stdout",
     "output_type": "stream",
     "text": [
      "Installed Python version: 3.8 (✓)\n",
      "Installed numpy version: 1.22.2 (✓)\n",
      "Installed pandas version: 1.4.1 (✓)\n",
      "Installed PyTorch version: 1.10.2+cu113 (✓)\n",
      "Installed matplotlib version: 3.5.1 (✓)\n",
      "Installed seaborn version: 0.11.2 (✓)\n",
      "Installed gym version: 0.24.1 (✓)\n",
      "Installed pygame version: 2.1.2 (✓)\n"
     ]
    }
   ],
   "source": [
    "# Import pre-defined utilities specific to this notebook.\n",
    "import u6_utils as u6\n",
    "\n",
    "# Import additional utilities needed in this notebook.\n",
    "import matplotlib.pyplot as plt\n",
    "import numpy as np\n",
    "import pandas as pd\n",
    "import seaborn as sns\n",
    "import sys\n",
    "import time\n",
    "import gym\n",
    "\n",
    "from IPython import display\n",
    "from typing import Tuple\n",
    "\n",
    "# Set default plotting style.\n",
    "sns.set()\n",
    "\n",
    "# Setup Jupyter notebook (warning: this may affect all Jupyter notebooks running on the same Jupyter server).\n",
    "u6.setup_jupyter()\n",
    "\n",
    "# Check minimum versions.\n",
    "u6.check_module_versions()"
   ]
  },
  {
   "cell_type": "markdown",
   "id": "768c14d1",
   "metadata": {},
   "source": [
    "<h2>Dissection of an Environment</h2>\n",
    "<p>All exercises in this assignment are referring to the <i>FrozenLake</i> environment of <a href=\"https://www.gymlibrary.ml/\"><i>OpenAI Gym</i></a>. This environment is described according to its official <a href=\"https://www.gymlibrary.ml/environments/toy_text/frozen_lake/\">OpenAI Gym website</a>.\n",
    "<center>\n",
    "    <cite>Winter is here. You and your friends were tossing around a frisbee at the park when you made a wild throw that left the frisbee out in the middle of the lake. The water is mostly <span style=\"color:rgb(0,255,0)\">frozen</span>, but there are a few <span style=\"color:rgb(255,0,0)\">holes</span> where the ice has melted. If you step into one of those holes, you'll fall into the freezing water. At this time, there's an international frisbee shortage, so it's absolutely imperative that you navigate across the lake and retrieve the <span style=\"color:rgb(255,0,255)\">disc</span>. However, the ice is slippery, so you won't always move in the direction you intend.</cite>\n",
    "    </center></p>\n",
    "\n",
    "\n",
    "<p>There are <i>four</i> types of surfaces described in this environment:\n",
    "<ul>\n",
    "    <li><code>S</code> $\\rightarrow$ starting point (<span style=\"color:rgb(0,255,0)\"><i>safe</i></span>)</li>\n",
    "    <li><code>F</code> $\\rightarrow$ frozen surface (<span style=\"color:rgb(0,255,0)\"><i>safe</i></span>)</li>\n",
    "    <li><code>H</code> $\\rightarrow$ hole (<span style=\"color:rgb(255,0,0)\"><i>fall to your doom</i></span>)</li>\n",
    "    <li><code>G</code> $\\rightarrow$ goal (<span style=\"color:rgb(255,0,255)\"><i>frisbee location</i></span>)</li>\n",
    "</ul>"
   ]
  },
  {
   "cell_type": "code",
   "execution_count": 2,
   "id": "88e142c4",
   "metadata": {},
   "outputs": [],
   "source": [
    "# Utility function for creating a default FrozenLake environment (slippery is parameterized).\n",
    "def FrozenLakeEnv(slippery: bool = False) -> gym.Env:\n",
    "    return gym.make('FrozenLake-v1', desc=None, map_name=\"8x8\", is_slippery=slippery)"
   ]
  },
  {
   "cell_type": "markdown",
   "id": "b145d4f7",
   "metadata": {},
   "source": [
    "<div class=\"alert alert-warning\">\n",
    "    <b>Exercise 1. [5 Points]</b>\n",
    "    <ul>\n",
    "        <li>Create a <code>FrozenLakeEnv</code> with <code>slippery = False</code> and set the seed to $42$. Use this environment in the subsequent tasks if not specified otherwise. Render its current state in a human-readable way.</li>\n",
    "        <li>Gather and print the amount of different <i>actions</i> as well as <i>states</i> of the <code>FrozenLakeEnv</code> instance. Discuss the results.</li>\n",
    "        <li>Display the <i>reward table entry</i> for the current state. Discuss the different elements of the resulting dictionary.</li>\n",
    "    </ul>\n",
    "</div>"
   ]
  },
  {
   "cell_type": "code",
   "execution_count": 3,
   "id": "eff467d4",
   "metadata": {},
   "outputs": [
    {
     "name": "stdout",
     "output_type": "stream",
     "text": [
      "\n",
      "\u001b[41mS\u001b[0mFFFFFFF\n",
      "FFFFFFFF\n",
      "FFFHFFFF\n",
      "FFFFFHFF\n",
      "FFFHFFFF\n",
      "FHHFFFHF\n",
      "FHFFHFHF\n",
      "FFFHFFFG\n",
      "\n"
     ]
    }
   ],
   "source": [
    "no_slip_env = FrozenLakeEnv(slippery=False).env\n",
    "u6.set_environment_seed(environment=no_slip_env, seed=42)\n",
    "print(no_slip_env.render(mode='ansi'))"
   ]
  },
  {
   "cell_type": "code",
   "execution_count": 4,
   "id": "6f5bbf2f",
   "metadata": {},
   "outputs": [
    {
     "name": "stdout",
     "output_type": "stream",
     "text": [
      "Action Space:\t4\n",
      "State Space:\t64\n"
     ]
    }
   ],
   "source": [
    "n_actions = no_slip_env.action_space.n\n",
    "n_observation = no_slip_env.observation_space.n\n",
    "print(f'Action Space:\\t{n_actions}\\nState Space:\\t{n_observation}')"
   ]
  },
  {
   "cell_type": "code",
   "execution_count": 5,
   "id": "36cfa61e",
   "metadata": {},
   "outputs": [],
   "source": [
    "# The Actions of the environment are [0, 1, 2, 3] as [Left, Down, Right Up] summing up to 4 action in the action space\n",
    "# The States of the environment are the actual positions \"The Map\" where each item of the states is represented based on its\n",
    "# behavior either Frozen, Slippery or a Hole."
   ]
  },
  {
   "cell_type": "code",
   "execution_count": 6,
   "id": "8ba4f1bf",
   "metadata": {},
   "outputs": [
    {
     "data": {
      "text/plain": [
       "{0: [(1.0, 0, 0.0, False)],\n",
       " 1: [(1.0, 8, 0.0, False)],\n",
       " 2: [(1.0, 1, 0.0, False)],\n",
       " 3: [(1.0, 0, 0.0, False)]}"
      ]
     },
     "execution_count": 6,
     "metadata": {},
     "output_type": "execute_result"
    }
   ],
   "source": [
    "current_state_id = no_slip_env.s\n",
    "no_slip_env.P[current_state_id]"
   ]
  },
  {
   "cell_type": "code",
   "execution_count": 7,
   "id": "fc47089b",
   "metadata": {},
   "outputs": [],
   "source": [
    "# Each Row in the table of the current state represents an action a with keys as [0,1,2,3] as explained previously\n",
    "# each action ['row'] is represented by 4 components: [B,C,D,E]\n",
    "#     B as the probability of taking this action [With an initial value of 1 for equal opportunities in the begining]\n",
    "#     C as the next state if this action was taken fro the current state\n",
    "#     D as the reward if we would take that action\n",
    "#     E as the current state of the episode \"if its done or not.\"\n"
   ]
  },
  {
   "cell_type": "markdown",
   "id": "774a152d",
   "metadata": {},
   "source": [
    "<h2>Tackling the Environment with Random Exploration</h2>\n",
    "<p>In the exercise, we talked about solving this kind of tasks in a na&#xEF;ve way by simply applying <i>brute force</i>: using <i>random search</i>. So far, we analyzed the <i>action</i> as well as the <i>state space</i> and came to the conclusion that such an approach is feasible. Here is the outline of such an approach:\n",
    "<ul>\n",
    "    <li><code>I</code> $\\rightarrow$ choose a random <i>action</i> with respect to the <i>current</i> state.</li>\n",
    "    <li><code>II</code> $\\rightarrow$ execute previously chosen <i>action</i> and transition into a <i>new</i> state.</li>\n",
    "    <li><code>III</code> $\\rightarrow$ if the episode is finished but the goal is not reached, <i>reset</i> the <i>environment</i>.</li>\n",
    "</ul>\n",
    "\n",
    "This procedure is repeated as long as the task is not solved or a defined <i>maximum number of steps</i> is reached, whatever triggers first (<code>IV</code>). Adapt the function <code>apply_random_search</code> as discussed during the exercise. Mark the corresponding sections of the code using <code>I</code>, <code>II</code>, <code>III</code> and <code>IV</code>. Note that our <i>random search</i> is <i>not</i> guaranteed to find  the solution of a task in <i>finite time</i>, hence an upper bound on the <i>runtime</i> is often applied as a safety net (in our case the <i>maximum number of steps</i>).</p>"
   ]
  },
  {
   "cell_type": "markdown",
   "id": "51118e65",
   "metadata": {},
   "source": [
    "<div class=\"alert alert-warning\">\n",
    "    <b>Exercise 2.1 [10 Points]</b>\n",
    "    <ul>\n",
    "        <li>Implement the <i>random search</i> algorithm as outlined above (equivalently to the one discussed during the exercise).</li>\n",
    "        <li>Apply your random search implementation on a freshly $42$-seeded <code>FrozenLakeEnv</code> instance, with an animation delay of $0.01$ and a maximum number of steps of $500$.</li>\n",
    "        <li>Was the goal reached, how many steps were taken and how often did an involuntary dive happen?</li>\n",
    "        <li>Repeat the experiment and find parameters (random seed, maximum number of steps) that lead to a successful run (you do not need to animate this second experiment).</li>\n",
    "    </ul>\n",
    "</div>"
   ]
  },
  {
   "cell_type": "code",
   "execution_count": 8,
   "id": "dc11b96c",
   "metadata": {},
   "outputs": [],
   "source": [
    "def apply_random_search(environment, animate=False, delay=0.01, max_steps=500, seed=42):\n",
    "    \n",
    "    num_steps, num_penalties, final_reward = 0, 0, 0\n",
    "    num_steps_total, num_penalties_total, final_reward_total = [], [], []\n",
    "    \n",
    "    # <IV>: repeat random search procedure as long as the task is not solved or max_steps not reached.\n",
    "    done = False\n",
    "    solved = False\n",
    "    while not solved and not num_steps == max_steps:\n",
    "        # <I>: choose a random action with respect to the current state.\n",
    "        current_action = environment.action_space.sample()\n",
    "        \n",
    "            \n",
    "        # <II>: execute previously chosen action and transition into a new state.\n",
    "        current_state, current_reward, done, info = environment.step(current_action)\n",
    "        \n",
    "        # Update counter for inflicted penalties / rewards.\n",
    "        final_reward += current_reward\n",
    "        if current_reward > 0:\n",
    "            solved = True\n",
    "            \n",
    "        # <III>: reset environment if the episode is done and the current reward is not the goal's reward\n",
    "        if done and current_reward != 1:\n",
    "            num_penalties += 1\n",
    "            environment.reset(seed=seed)\n",
    "            solved=False\n",
    "          \n",
    "        num_steps += 1\n",
    "\n",
    "        # Optionally display current state.\n",
    "        if animate:\n",
    "            display.clear_output(wait=True)\n",
    "            print(environment.render(mode='ansi'))\n",
    "            print(f'Step No.: {num_steps}'\n",
    "                  f'\\nState ID: {current_state}'\n",
    "                  f'\\nAction ID: {current_action}'\n",
    "                  f'\\nReward: {current_reward}')\n",
    "            time.sleep(delay)\n",
    "\n",
    "    return num_steps, num_penalties, final_reward, solved, seed, max_steps"
   ]
  },
  {
   "cell_type": "code",
   "execution_count": 9,
   "id": "67f6ec05",
   "metadata": {},
   "outputs": [
    {
     "name": "stdout",
     "output_type": "stream",
     "text": [
      "  (Down)\n",
      "SFFFFFFF\n",
      "\u001b[41mF\u001b[0mFFFFFFF\n",
      "FFFHFFFF\n",
      "FFFFFHFF\n",
      "FFFHFFFF\n",
      "FHHFFFHF\n",
      "FHFFHFHF\n",
      "FFFHFFFG\n",
      "\n",
      "Step No.: 500\n",
      "State ID: 8\n",
      "Action ID: 1\n",
      "Reward: 0.0\n",
      "\n",
      "Goal Met\tFalse\n",
      "Total Steps:\t500\n",
      "Holes Hit:\t17\n"
     ]
    }
   ],
   "source": [
    "u6.set_environment_seed(environment=no_slip_env, seed=42)\n",
    "num_steps, num_penalties, final_reward, solved, seed, max_steps = apply_random_search(environment=no_slip_env, animate=True, delay=0.01)\n",
    "print(f'\\nGoal Met\\t{solved}\\nTotal Steps:\\t{num_steps}\\nHoles Hit:\\t{num_penalties}')"
   ]
  },
  {
   "cell_type": "code",
   "execution_count": 10,
   "id": "70fc5382",
   "metadata": {},
   "outputs": [
    {
     "name": "stdout",
     "output_type": "stream",
     "text": [
      "\n",
      "Goal Met\tTrue\n",
      "Total Steps:\t8916\n",
      "Holes Hit:\t288\n"
     ]
    }
   ],
   "source": [
    "u6.set_environment_seed(environment=no_slip_env, seed=23)\n",
    "num_steps, num_penalties, final_reward, solved, seed, max_steps = apply_random_search(environment=no_slip_env, max_steps=20000, seed=23)\n",
    "print(f'\\nGoal Met\\t{solved}\\nTotal Steps:\\t{num_steps}\\nHoles Hit:\\t{num_penalties}')"
   ]
  },
  {
   "cell_type": "code",
   "execution_count": 11,
   "id": "60800213",
   "metadata": {},
   "outputs": [
    {
     "name": "stdout",
     "output_type": "stream",
     "text": [
      "Gird Search took 377.93 seconds\n"
     ]
    },
    {
     "data": {
      "text/html": [
       "<div>\n",
       "<style scoped>\n",
       "    .dataframe tbody tr th:only-of-type {\n",
       "        vertical-align: middle;\n",
       "    }\n",
       "\n",
       "    .dataframe tbody tr th {\n",
       "        vertical-align: top;\n",
       "    }\n",
       "\n",
       "    .dataframe thead th {\n",
       "        text-align: right;\n",
       "    }\n",
       "</style>\n",
       "<table border=\"1\" class=\"dataframe\">\n",
       "  <thead>\n",
       "    <tr style=\"text-align: right;\">\n",
       "      <th></th>\n",
       "      <th>num_steps</th>\n",
       "      <th>num_penalties</th>\n",
       "      <th>final_reward</th>\n",
       "      <th>solved</th>\n",
       "      <th>seed</th>\n",
       "      <th>max_steps</th>\n",
       "    </tr>\n",
       "  </thead>\n",
       "  <tbody>\n",
       "    <tr>\n",
       "      <th>0</th>\n",
       "      <td>500</td>\n",
       "      <td>17</td>\n",
       "      <td>0.0</td>\n",
       "      <td>False</td>\n",
       "      <td>1</td>\n",
       "      <td>500</td>\n",
       "    </tr>\n",
       "    <tr>\n",
       "      <th>1</th>\n",
       "      <td>1000</td>\n",
       "      <td>35</td>\n",
       "      <td>0.0</td>\n",
       "      <td>False</td>\n",
       "      <td>1</td>\n",
       "      <td>1000</td>\n",
       "    </tr>\n",
       "    <tr>\n",
       "      <th>2</th>\n",
       "      <td>1500</td>\n",
       "      <td>52</td>\n",
       "      <td>0.0</td>\n",
       "      <td>False</td>\n",
       "      <td>1</td>\n",
       "      <td>1500</td>\n",
       "    </tr>\n",
       "    <tr>\n",
       "      <th>3</th>\n",
       "      <td>2000</td>\n",
       "      <td>65</td>\n",
       "      <td>0.0</td>\n",
       "      <td>False</td>\n",
       "      <td>1</td>\n",
       "      <td>2000</td>\n",
       "    </tr>\n",
       "    <tr>\n",
       "      <th>4</th>\n",
       "      <td>2500</td>\n",
       "      <td>81</td>\n",
       "      <td>0.0</td>\n",
       "      <td>False</td>\n",
       "      <td>1</td>\n",
       "      <td>2500</td>\n",
       "    </tr>\n",
       "    <tr>\n",
       "      <th>...</th>\n",
       "      <td>...</td>\n",
       "      <td>...</td>\n",
       "      <td>...</td>\n",
       "      <td>...</td>\n",
       "      <td>...</td>\n",
       "      <td>...</td>\n",
       "    </tr>\n",
       "    <tr>\n",
       "      <th>1945</th>\n",
       "      <td>4252</td>\n",
       "      <td>128</td>\n",
       "      <td>1.0</td>\n",
       "      <td>True</td>\n",
       "      <td>50</td>\n",
       "      <td>17500</td>\n",
       "    </tr>\n",
       "    <tr>\n",
       "      <th>1946</th>\n",
       "      <td>4252</td>\n",
       "      <td>128</td>\n",
       "      <td>1.0</td>\n",
       "      <td>True</td>\n",
       "      <td>50</td>\n",
       "      <td>18000</td>\n",
       "    </tr>\n",
       "    <tr>\n",
       "      <th>1947</th>\n",
       "      <td>4252</td>\n",
       "      <td>128</td>\n",
       "      <td>1.0</td>\n",
       "      <td>True</td>\n",
       "      <td>50</td>\n",
       "      <td>18500</td>\n",
       "    </tr>\n",
       "    <tr>\n",
       "      <th>1948</th>\n",
       "      <td>4252</td>\n",
       "      <td>128</td>\n",
       "      <td>1.0</td>\n",
       "      <td>True</td>\n",
       "      <td>50</td>\n",
       "      <td>19000</td>\n",
       "    </tr>\n",
       "    <tr>\n",
       "      <th>1949</th>\n",
       "      <td>4252</td>\n",
       "      <td>128</td>\n",
       "      <td>1.0</td>\n",
       "      <td>True</td>\n",
       "      <td>50</td>\n",
       "      <td>19500</td>\n",
       "    </tr>\n",
       "  </tbody>\n",
       "</table>\n",
       "<p>1950 rows × 6 columns</p>\n",
       "</div>"
      ],
      "text/plain": [
       "      num_steps  num_penalties  final_reward  solved  seed  max_steps\n",
       "0           500             17           0.0   False     1        500\n",
       "1          1000             35           0.0   False     1       1000\n",
       "2          1500             52           0.0   False     1       1500\n",
       "3          2000             65           0.0   False     1       2000\n",
       "4          2500             81           0.0   False     1       2500\n",
       "...         ...            ...           ...     ...   ...        ...\n",
       "1945       4252            128           1.0    True    50      17500\n",
       "1946       4252            128           1.0    True    50      18000\n",
       "1947       4252            128           1.0    True    50      18500\n",
       "1948       4252            128           1.0    True    50      19000\n",
       "1949       4252            128           1.0    True    50      19500\n",
       "\n",
       "[1950 rows x 6 columns]"
      ]
     },
     "execution_count": 11,
     "metadata": {},
     "output_type": "execute_result"
    }
   ],
   "source": [
    "import time\n",
    "# Grid Search for the optimum seed and max_step Number\n",
    "st = time.time()\n",
    "experiments = []\n",
    "for seed in range(1,51):\n",
    "    for steps in range(500, 20000, 500):\n",
    "        u6.set_environment_seed(environment=no_slip_env, seed=seed)\n",
    "        experiments.append(apply_random_search(environment=no_slip_env, max_steps=steps, seed=seed))\n",
    "exp_df = pd.DataFrame(experiments, columns=['num_steps', 'num_penalties', 'final_reward', 'solved', 'seed', 'max_steps'])\n",
    "print(f'Gird Search took {(time.time() - st):5.2f} seconds')\n",
    "exp_df"
   ]
  },
  {
   "cell_type": "code",
   "execution_count": 12,
   "id": "dafe7e6b",
   "metadata": {},
   "outputs": [],
   "source": [
    "# print(exp_df[(exp_df['solved'] == True)].sort_values(by=['num_steps', 'num_penalties']))\n",
    "# print(exp_df[(exp_df['solved'] == True)].groupby(by=['seed', 'max_steps']).describe())"
   ]
  },
  {
   "cell_type": "markdown",
   "id": "67639955",
   "metadata": {},
   "source": [
    "<p>To drill down on the drawbacks of plain <i>random search</i>, we are designing the following experimental setup (<i>Hint</i>: it is actually the same experimental setup as already discussed during the exercise, so you might orient yourself on the implementation presented during class):\n",
    "<ul>\n",
    "    <li>Repeat the previous <i>random search</i> procedure a specified amount of times.</li>\n",
    "    <li>Aggregate the results of each run for later analysis.</li>\n",
    "    <li>Visualize the aggregated results using <i>box-</i> and <i>strip-plots</i> (or <i>swarm-plots</i>).</li>\n",
    "</ul>\n",
    "Once again, we are setting the <i>random seed</i>, but take care of setting it <i>outside</i> the loop, otherwise the same result is reported with each iteration (and an aggregation of the results would not give us any more insights).</p>"
   ]
  },
  {
   "cell_type": "markdown",
   "id": "046c4705",
   "metadata": {},
   "source": [
    "<div class=\"alert alert-warning\">\n",
    "    <b>Exercise 2.2 [10 Points]</b>\n",
    "    <ul>\n",
    "        <li>Conduct a <i>random search experiment</i> as outlined above, using $100$ repetitions and the random seed set to $42$. Set the maximum number of steps to $10,000$.</li>\n",
    "        <li>Interpret the visualization (e.g. the span of the boxes) and keep the scaling of the <i>x-axis</i> in mind.</li>\n",
    "        <li>In comparison with the <code>Taxi</code> environment, what might be the problem with <code>FrozenLakeEnv</code> w.r.t. random exploration?</li>\n",
    "    </ul>\n",
    "</div>"
   ]
  },
  {
   "cell_type": "code",
   "execution_count": 13,
   "id": "16713867",
   "metadata": {},
   "outputs": [],
   "source": [
    "u6.set_environment_seed(environment=no_slip_env, seed=42)\n",
    "\n",
    "import time\n",
    "num_reps = 100\n",
    "exps = []\n",
    "\n",
    "for i in range(num_reps):\n",
    "    no_slip_env.reset()\n",
    "    exps.append(apply_random_search(environment=no_slip_env, max_steps=10000, seed=None))\n",
    "no_slip_exps = pd.DataFrame(exps, columns=['num_steps', 'num_penalties', 'final_reward', 'solved', 'seed', 'max_steps'])\n",
    "no_slip_exps.drop(['seed', 'max_steps', 'solved'], axis=1, inplace=True)"
   ]
  },
  {
   "cell_type": "code",
   "execution_count": 14,
   "id": "3eae4106",
   "metadata": {},
   "outputs": [
    {
     "data": {
      "image/png": "[encoded data removed]",
      "text/plain": [
       "<Figure size 1440x504 with 1 Axes>"
      ]
     },
     "metadata": {},
     "output_type": "display_data"
    }
   ],
   "source": [
    "fig, ax = plt.subplots(figsize=(20, 7))\n",
    "ax.set_xscale('symlog')\n",
    "sns.boxplot(data=no_slip_exps, ax=ax, orient='h')\n",
    "sns.stripplot(data=no_slip_exps, ax=ax, orient='h', color='gray')\n",
    "plt.show()"
   ]
  },
  {
   "cell_type": "code",
   "execution_count": 15,
   "id": "6d4d4df9",
   "metadata": {},
   "outputs": [],
   "source": [
    "# In the Taxi Environment there exists some penalties \"negative rewards\" involved, so when plotting the graph, we can see that\n",
    "# the final rewards will vary, not just \"1\" in the case of Frozen Lake.\n",
    "# The fact that the only reward mentioned in the frozen lake is the last reward \"When reaching the goal\" will result in a huge\n",
    "# number of times hitting holes as we can see in the graph."
   ]
  },
  {
   "cell_type": "markdown",
   "id": "638bc008",
   "metadata": {},
   "source": [
    "<h2>Tackling the Environment with $Q$-Learning</h2>\n",
    "<p>In a simplified version of $Q$-learning, the <b>$\\boldsymbol{Q}$-value</b>\n",
    "\\begin{equation}\n",
    "    Q(s,a)\n",
    "\\end{equation}</p>\n",
    "\n",
    "<p>is the expected future reward of being in state $s$ and taking action $a$. Intuitively, if the $Q$-values are learned correctly, a good policy would be to take the action which maximizes the expected future reward. This is what $Q$-learning is doing. $Q$-learning lets the agent <b>use the environment's rewards to learn</b>, over time, the best action to take in a given state. $Q$-values are initialized to an arbitrary value, and as the agent exposes itself to the environment and receives different rewards by executing different actions, the $Q$-values are updated using the equation:\n",
    "\\begin{equation}\n",
    "    Q(s_t,a_t) \\leftarrow (1 - \\alpha) \\cdot Q(s_t,a_t) + \\alpha \\cdot \\left( r + \\gamma \\max_{a_{t+1}} Q(s_{t+1}, a_{t+1})\\right)\n",
    "\\end{equation}</p>\n",
    "\n",
    "<p>We are assigning $\\leftarrow$, or updating, the $Q$-value of the agent's current state and action, denoted as $Q(s_t,a_t)$ with $\\alpha$ as the learning rate, i.e the extent to which our $Q$-values are being updated in every iteration.</p>\n",
    "\n",
    "<p>The <b>$\\boldsymbol{Q}$-table</b> is a matrix where we have a row for every state and a column for every action: $64$ and $4$, respectively, when referring to the current <i>FrozenLake</i> example. It's first initialized to $0$, and then values are updated during training.</p>\n",
    "\n",
    "<p>Previously, we talked about solving this task in a na&#xEF;ve way by simply applying <i>brute force</i> using <i>random search</i>. This time, we want to apply a more sophisticated algorithm, namely $Q$-learning:\n",
    "<ul>\n",
    "    <li><code>I</code> $\\rightarrow$ Choose action $a_t$.\n",
    "    <li><code>II</code> $\\rightarrow$ Go from state $s_t$ to state $s_{t+1}$ by taking action $a_{t}$.\n",
    "    <li><code>III</code> $\\rightarrow$ For all possible $Q$-values from the state $s_{t+1}$, select the highest.\n",
    "    <li><code>IV</code> $\\rightarrow$ Update $Q$-table values using the equation from above.\n",
    "    <li><code>V</code> $\\rightarrow$ Set the next state as the current state and go back to <code>I</code> until a final state is reached (end of episode).\n",
    "</ul>\n",
    "\n",
    "This procedure is repeated for as many episodes as specified (<code>VI</code>).</p>"
   ]
  },
  {
   "cell_type": "markdown",
   "id": "bba3beff",
   "metadata": {},
   "source": [
    "<div class=\"alert alert-warning\">\n",
    "    <b>Exercise 3.1 [10 Points]</b>\n",
    "    <ul>\n",
    "        <li>Implement <i>$Q$-learning</i> as outlined above (equivalently to the one discussed during the exercise).</li>\n",
    "        <li>Apply $Q$-learning on a freshly $42$-seeded <code>FrozenLakeEnv</code> instance for $50,000$ episodes, with $1,000$ delay steps, a discount factor $\\gamma=0.99$ and $\\alpha=0.1$.</li>\n",
    "        <li>Interpret the visualization of the resulting $Q$-table. What do you observe? Why do you observe this effect?</li>\n",
    "    </ul>\n",
    "</div>"
   ]
  },
  {
   "cell_type": "markdown",
   "id": "3b2b137e",
   "metadata": {},
   "source": [
    "<div class=\"alert alert-warning\">\n",
    "    The following code snippet is taken from the accompanying exercise notebook. You do not need to modify it for this assignment.\n",
    "</div>"
   ]
  },
  {
   "cell_type": "code",
   "execution_count": 16,
   "id": "48502815",
   "metadata": {},
   "outputs": [],
   "source": [
    "# Original Code\n",
    "def visualize_q_table(q_table: np.ndarray, title: str = '') -> None:\n",
    "    \"\"\"\n",
    "    Visualize Q-table using a heatmap plot.\n",
    "    \n",
    "    :param q_table: Q-table to visualize\n",
    "    \"\"\"\n",
    "    sns.set()\n",
    "    fig, ax = plt.subplots(figsize=(20, 7))\n",
    "    sns.heatmap(data=q_table, ax=ax)\n",
    "    ax.set(xlabel='Action', ylabel='State', title=title)\n",
    "    display.clear_output(wait=True)\n",
    "    display.display(fig)\n",
    "    plt.close(fig=fig)\n",
    "\n",
    "\n",
    "def apply_q_learning(environment: gym.Env, num_episodes: int = 1000, alpha: float = 0.1, gamma: float = 1.0,\n",
    "                     animate: bool = False, delay_steps: int = 100) -> np.ndarray:\n",
    "    \"\"\"\n",
    "    Solve specified environment by applying Q-learning.\n",
    "    \n",
    "    :param environment: the environment on which to apply Q-learning\n",
    "    :param num_episodes: the total amount of episodes used to adapt the Q-table\n",
    "    :param alpha: the learning rate to be applied by Q-learning\n",
    "    :param gamma: the discount factor of future rewards\n",
    "    :param animate: animate the Q-learning process\n",
    "    :param delay_steps: the steps between each Q-table visualization (ignored if not animated)\n",
    "    :return: adapted Q-table\n",
    "    \"\"\"\n",
    "    q_table = np.zeros(shape=(environment.observation_space.n, environment.action_space.n))\n",
    "    \n",
    "    # <VI>: repeat Q-learning as long as the total amount of episodes is not yet reached.\n",
    "    for episode in range(num_episodes):\n",
    "        state = environment.reset()\n",
    "        \n",
    "        done = False\n",
    "        while not done:\n",
    "            \n",
    "            # <I>: choose next action according to current Q-table.\n",
    "            action = np.argmax(q_table[state]) \n",
    "            \n",
    "            # <II>: go from the current state to the next by applying chosen action.\n",
    "            next_state, reward, done, info = environment.step(action)\n",
    "            \n",
    "            # <III>: from all possible Q-values w.r.t. the new state, select the highest.\n",
    "            next_max = np.max(q_table[next_state])\n",
    "            \n",
    "            # <IV>: update the Q-table accordingly.\n",
    "            old_value = q_table[state, action]\n",
    "            new_value = (1 - alpha) * old_value + alpha * (reward + gamma * next_max)\n",
    "            q_table[state, action] = new_value\n",
    "\n",
    "            # <V>: update the next step with the current one.\n",
    "            state = next_state\n",
    "        \n",
    "        # Optionally visualize the current Q-table.\n",
    "        if animate and any(((episode + 1) % delay_steps == 0, (episode + 1) == num_episodes)):\n",
    "            visualize_q_table(q_table=q_table, title=f'Episode {episode + 1}')\n",
    "    \n",
    "    return q_table"
   ]
  },
  {
   "cell_type": "code",
   "execution_count": null,
   "id": "919c0ad8",
   "metadata": {},
   "outputs": [],
   "source": [
    "u6.set_environment_seed(environment=no_slip_env, seed=42)\n",
    "q_table = apply_q_learning(environment=no_slip_env, num_episodes=50000, gamma=0.99,\n",
    "                            alpha=0.1, animate=True, delay_steps=1000)\n",
    "\n",
    "# The Code was stopped after 72 hours without yielding any results.\n",
    "# This is due to the fact that the q-table was initialized as zeros, and since the environment doesn't have any penalties\n",
    "# the action will always remain 0 -to go left- which yields nothing which results in an inifinite loop, and prevent the animate\n",
    "# to occur, but most likely it will yield a blank plot indicating no learning happening, for the above reasons"
   ]
  },
  {
   "cell_type": "code",
   "execution_count": 17,
   "id": "be63f2b8",
   "metadata": {},
   "outputs": [],
   "source": [
    "# Slightly Modified to escape the infinite loop\n",
    "def visualize_q_table(q_table: np.ndarray, title: str = '') -> None:\n",
    "    \"\"\"\n",
    "    Visualize Q-table using a heatmap plot.\n",
    "    \n",
    "    :param q_table: Q-table to visualize\n",
    "    \"\"\"\n",
    "    sns.set()\n",
    "    fig, ax = plt.subplots(figsize=(20, 7))\n",
    "    sns.heatmap(data=q_table, ax=ax)\n",
    "    ax.set(xlabel='Action', ylabel='State', title=title)\n",
    "    display.clear_output(wait=True)\n",
    "    display.display(fig)\n",
    "    plt.close(fig=fig)\n",
    "\n",
    "\n",
    "def apply_q_learning(environment: gym.Env, num_episodes: int = 1000, alpha: float = 0.1, gamma: float = 1.0,\n",
    "                     animate: bool = False, delay_steps: int = 100) -> np.ndarray:\n",
    "    \"\"\"\n",
    "    Solve specified environment by applying Q-learning.\n",
    "    \n",
    "    :param environment: the environment on which to apply Q-learning\n",
    "    :param num_episodes: the total amount of episodes used to adapt the Q-table\n",
    "    :param alpha: the learning rate to be applied by Q-learning\n",
    "    :param gamma: the discount factor of future rewards\n",
    "    :param animate: animate the Q-learning process\n",
    "    :param delay_steps: the steps between each Q-table visualization (ignored if not animated)\n",
    "    :return: adapted Q-table\n",
    "    \"\"\"\n",
    "    q_table = np.zeros(shape=(environment.observation_space.n, environment.action_space.n))\n",
    "    \n",
    "    # <VI>: repeat Q-learning as long as the total amount of episodes is not yet reached.\n",
    "    for episode in range(num_episodes):\n",
    "        state = environment.reset()\n",
    "        \n",
    "        done = False\n",
    "        while not done:\n",
    "            \n",
    "            # <I>: choose next action according to current Q-table.\n",
    "            action = np.argmax(q_table[state]) if np.max(q_table[state]) > 0 else environment.action_space.sample()\n",
    "\n",
    "            # <II>: go from the current state to the next by applying chosen action.\n",
    "            next_state, reward, done, info = environment.step(action)\n",
    "            \n",
    "            # <III>: from all possible Q-values w.r.t. the new state, select the highest.\n",
    "            next_max = np.max(q_table[next_state])\n",
    "            \n",
    "            # <IV>: update the Q-table accordingly.\n",
    "            old_value = q_table[state, action]\n",
    "            new_value = (1 - alpha) * old_value + alpha * (reward + gamma * next_max)\n",
    "            q_table[state, action] = new_value\n",
    "            # <V>: update the next step with the current one.\n",
    "            state = next_state\n",
    "        \n",
    "        # Optionally visualize the current Q-table.\n",
    "        if animate and any(((episode + 1) % delay_steps == 0, (episode + 1) == num_episodes)):\n",
    "            visualize_q_table(q_table=q_table, title=f'Episode {episode + 1}')\n",
    "    \n",
    "    return q_table"
   ]
  },
  {
   "cell_type": "code",
   "execution_count": 18,
   "id": "210e773b",
   "metadata": {},
   "outputs": [
    {
     "data": {
      "image/png": "[encoded data removed]",
      "text/plain": [
       "<Figure size 1440x504 with 2 Axes>"
      ]
     },
     "metadata": {},
     "output_type": "display_data"
    }
   ],
   "source": [
    "u6.set_environment_seed(environment=no_slip_env, seed=42)\n",
    "q_table = apply_q_learning(environment=no_slip_env, num_episodes=50000, gamma=0.99,\n",
    "                            alpha=0.1, animate=True, delay_steps=1000)"
   ]
  },
  {
   "cell_type": "code",
   "execution_count": 19,
   "id": "294ca159",
   "metadata": {},
   "outputs": [],
   "source": [
    "# The graph Indicates that learning will be very slow without any penalties in the environment and with an initial zero q-table\n",
    "# Also if the Left action was not escaped it should've displayed an empty graph since there will be no actions taken ever.\n",
    "# This also can be reproduced by a max_step implementation like done in the previous exercise."
   ]
  },
  {
   "cell_type": "markdown",
   "id": "3caf1bc1",
   "metadata": {},
   "source": [
    "<p>Very likely, the $Q$-table of the previous experiment looked a little bit odd. Try to add an initial exploration to your algorithm by adapting your $Q$-learning implementation:\n",
    "    <ul>\n",
    "        <li><code>I</code> $\\rightarrow$ Get a random uniform number between $0$ and $1$. \n",
    "        <li><code>II</code> $\\rightarrow$ If the number is smaller than <code>1 - episode / (num_episodes - 1)</code>, sample a random action.\n",
    "        <li><code>III</code> $\\rightarrow$ Otherwise, choose your action as usual.\n",
    "    </ul>\n",
    "</p>"
   ]
  },
  {
   "cell_type": "markdown",
   "id": "0bdba83f",
   "metadata": {},
   "source": [
    "<div class=\"alert alert-warning\">\n",
    "    <b>Exercise 3.2 [20 Points]</b>\n",
    "    <ul>\n",
    "        <li>Modify the <i>$Q$-learning</i> implementation from the previous tasks as outlined above (mark the corresponding code sections).</li>\n",
    "        <li>Apply $Q$-learning on a freshly $42$-seeded <code>FrozenLakeEnv</code> instance for $50,000$ episodes, with $1,000$ delay steps, discount factor $\\gamma=0.99$ and $\\alpha=0.1$.</li>\n",
    "        <li>Interpret the visualization of the resulting $Q$-table. What do you observe (compare with the previous visualization)?</li>\n",
    "        <li>Use this $Q$-learning strategy to also tackle the <code>FrozenLakeEnv</code> with <code>slippery = True</code>. Compare both $Q$-tables and discuss the differences.</li>\n",
    "    </ul>\n",
    "</div>"
   ]
  },
  {
   "cell_type": "code",
   "execution_count": 20,
   "id": "116d35a6",
   "metadata": {},
   "outputs": [],
   "source": [
    "def apply_q_learning(environment: gym.Env, num_episodes: int = 1000, alpha: float = 0.1, gamma: float = 1.0,\n",
    "                     animate: bool = False, delay_steps: int = 100) -> np.ndarray:\n",
    "    \"\"\"\n",
    "    Solve specified environment by applying Q-learning.\n",
    "    \n",
    "    :param environment: the environment on which to apply Q-learning\n",
    "    :param num_episodes: the total amount of episodes used to adapt the Q-table\n",
    "    :param alpha: the learning rate to be applied by Q-learning\n",
    "    :param gamma: the discount factor of future rewards\n",
    "    :param animate: animate the Q-learning process\n",
    "    :param delay_steps: the steps between each Q-table visualization (ignored if not animated)\n",
    "    :return: adapted Q-table\n",
    "    \"\"\"\n",
    "    q_table = np.zeros(shape=(environment.observation_space.n, environment.action_space.n))\n",
    "    \n",
    "    # <VI>: repeat Q-learning as long as the total amount of episodes is not yet reached.\n",
    "    for episode in range(num_episodes):\n",
    "        state = environment.reset()\n",
    "        \n",
    "        done = False\n",
    "        while not done:\n",
    "            \n",
    "            # <I>: get a random number between [0,1]\n",
    "            random_var = np.random.uniform(low=0,high=1)\n",
    "            # <II>: if random_var < (1-(episode/(num_episodes-1))) choose a random action\n",
    "            if random_var < (1-(episode/(num_episodes-1))):\n",
    "                action = environment.action_space.sample()\n",
    "            else:\n",
    "            # <III>: choose next action according to current Q-table.\n",
    "                action  = np.argmax(q_table[state])\n",
    "            \n",
    "            # <IV>: go from the current state to the next by applying chosen action.\n",
    "            next_state, reward, done, info = environment.step(action)\n",
    "            \n",
    "            # <V>: from all possible Q-values w.r.t. the new state, select the highest.\n",
    "            next_max = np.max(q_table[next_state])\n",
    "            \n",
    "            # <VI>: update the Q-table accordingly.\n",
    "            old_value = q_table[state, action]\n",
    "            new_value = (1 - alpha) * old_value + alpha * (reward + gamma * next_max)\n",
    "            q_table[state, action] = new_value\n",
    "\n",
    "            # <VII>: update the next step with the current one.\n",
    "            state = next_state\n",
    "        \n",
    "        # Optionally visualize the current Q-table.\n",
    "        if animate and any(((episode + 1) % delay_steps == 0, (episode + 1) == num_episodes)):\n",
    "            visualize_q_table(q_table=q_table, title=f'Episode {episode + 1}')\n",
    "    \n",
    "    return q_table"
   ]
  },
  {
   "cell_type": "code",
   "execution_count": 21,
   "id": "ea68ddc9",
   "metadata": {},
   "outputs": [
    {
     "data": {
      "image/png": "[encoded data removed]",
      "text/plain": [
       "<Figure size 1440x504 with 2 Axes>"
      ]
     },
     "metadata": {},
     "output_type": "display_data"
    }
   ],
   "source": [
    "u6.set_environment_seed(environment=no_slip_env, seed=42)\n",
    "q_table_noslip_rand = apply_q_learning(environment=no_slip_env, num_episodes=50000,\n",
    "                                        gamma=0.99, alpha=0.1, animate=True, delay_steps=1000)"
   ]
  },
  {
   "cell_type": "code",
   "execution_count": 22,
   "id": "dad42cb2",
   "metadata": {},
   "outputs": [],
   "source": [
    "# The Q-table shows that it was in fact able to learn how to solve the task successfully, in a considerably faster pace \"Steps\"\n",
    "# than the previous \"slightly modified code\" and even with the \"empty graph of the code provided\" \n",
    "# and this was due to the random initialization of the q-table"
   ]
  },
  {
   "cell_type": "code",
   "execution_count": 23,
   "id": "ca062a67",
   "metadata": {},
   "outputs": [
    {
     "name": "stdout",
     "output_type": "stream",
     "text": [
      "\n",
      "\u001b[41mS\u001b[0mFFFFFFF\n",
      "FFFFFFFF\n",
      "FFFHFFFF\n",
      "FFFFFHFF\n",
      "FFFHFFFF\n",
      "FHHFFFHF\n",
      "FHFFHFHF\n",
      "FFFHFFFG\n",
      "\n"
     ]
    }
   ],
   "source": [
    "slip_env = FrozenLakeEnv(slippery=True).env\n",
    "u6.set_environment_seed(environment=slip_env, seed=42)\n",
    "print(slip_env.render(mode='ansi'))"
   ]
  },
  {
   "cell_type": "code",
   "execution_count": 24,
   "id": "0363b193",
   "metadata": {},
   "outputs": [
    {
     "data": {
      "image/png": "[encoded data removed]",
      "text/plain": [
       "<Figure size 1440x504 with 2 Axes>"
      ]
     },
     "metadata": {},
     "output_type": "display_data"
    }
   ],
   "source": [
    "u6.set_environment_seed(environment=slip_env, seed=42)\n",
    "q_table_slip_rand = apply_q_learning(environment=slip_env, num_episodes=50000,\n",
    "                                    gamma=0.99, alpha=0.1, animate=True, delay_steps=1000)"
   ]
  },
  {
   "cell_type": "code",
   "execution_count": 25,
   "id": "5b48801c",
   "metadata": {},
   "outputs": [],
   "source": [
    "# When applying the slippery environment over the q-table trained on non-slippery env. we get that it's performing worse than\n",
    "# the original non-slippery in the range of \"33%\" worse because there's a random factor applied while taking each step, which\n",
    "# will deffinetly affect the performance of the algorithm that never took into account this randomness"
   ]
  },
  {
   "cell_type": "markdown",
   "id": "f001f336",
   "metadata": {},
   "source": [
    "<div class=\"alert alert-warning\">\n",
    "    <b>Exercise 3.3 [15 Points]</b>\n",
    "    <ul>\n",
    "        <li>Implement a function for applying a pre-trained $Q$-table on a <code>FrozenLakeEnv</code> instance (like discussed during class).</li>\n",
    "        <li>For both <code>FrozenLakeEnv</code> instances (with <code>slippery = False</code> and <code>slippery = True</code>), conduct a guided search using the corresponding $Q$-table on a freshly $42$-seeded instance, with an animation delay of $0.1$.</li>\n",
    "        <li>Answer the following question for both settings: How many steps are necessary to reach the goal at least once and how often did an involuntary dive happen?</li>\n",
    "        <li>Compare the corresponding policies of each $Q$-table. Which property of the environment is exploited in the slippery policy to avoid involuntary dives?</li>\n",
    "    </ul>\n",
    "</div>"
   ]
  },
  {
   "cell_type": "code",
   "execution_count": 26,
   "id": "7c073cc2",
   "metadata": {},
   "outputs": [],
   "source": [
    "def apply_q_table(environment: gym.Env, q_table: np.ndarray, animate: bool = False,\n",
    "                  delay: float = 0.1) -> Tuple[int, int, int]:\n",
    "    \"\"\"\n",
    "    Solve specified environment by applying specified Q-table.\n",
    "    \n",
    "    :param environment: the environment on which to apply Q-table guided search\n",
    "    :param q_table: the Q-table used during Q-table guided search\n",
    "    :param animate: animate the Q-table guided search process\n",
    "    :param delay: the minimum delay in milliseconds between each rendered frame (ignored if not animated)\n",
    "    :return: amount of steps performed, penalties inflicted and final reward\n",
    "    \"\"\"\n",
    "    num_steps, num_penalties, final_reward = 0, 0, 0\n",
    "    \n",
    "    # <III>: repeat Q-table guided search procedure as long as the episode is still ongoing.\n",
    "    done = False\n",
    "    while not done:\n",
    "        \n",
    "        # <I>: choose action according to the Q-table with respect to the current state.\n",
    "        current_action = np.argmax(q_table[environment.s])\n",
    "        \n",
    "        # <II>: execute previously chosen action and transition into a new state.\n",
    "        current_state, current_reward, done, info = environment.step(current_action)\n",
    "        \n",
    "        # Update counter for inflicted penalties.\n",
    "        final_reward += current_reward\n",
    "        if done and current_reward != 1:\n",
    "            num_penalties += 1\n",
    "        num_steps += 1\n",
    "        \n",
    "        # Optionally display current state.\n",
    "        if animate:\n",
    "            display.clear_output(wait=True)\n",
    "            print(environment.render(mode='ansi'))\n",
    "            print(f'Step No.: {num_steps}'\n",
    "                  f'\\nState ID: {current_state}'\n",
    "                  f'\\nAction ID: {current_action}'\n",
    "                  f'\\nReward: {current_reward}')\n",
    "            time.sleep(delay)\n",
    "    \n",
    "    return num_steps, num_penalties, final_reward"
   ]
  },
  {
   "cell_type": "code",
   "execution_count": 27,
   "id": "82163ae8",
   "metadata": {},
   "outputs": [],
   "source": [
    "no_slip_env = FrozenLakeEnv(slippery=False).env\n",
    "u6.set_environment_seed(environment=no_slip_env, seed=42)"
   ]
  },
  {
   "cell_type": "code",
   "execution_count": 28,
   "id": "951de633",
   "metadata": {},
   "outputs": [
    {
     "name": "stdout",
     "output_type": "stream",
     "text": [
      "  (Down)\n",
      "SFFFFFFF\n",
      "FFFFFFFF\n",
      "FFFHFFFF\n",
      "FFFFFHFF\n",
      "FFFHFFFF\n",
      "FHHFFFHF\n",
      "FHFFHFHF\n",
      "FFFHFFF\u001b[41mG\u001b[0m\n",
      "\n",
      "Step No.: 14\n",
      "State ID: 63\n",
      "Action ID: 1\n",
      "Reward: 1.0\n",
      "\n",
      "Non-Slippery\n",
      "[Exploitation Only]\n",
      "=============\n",
      "Number of Steps:\t14\n",
      "Number of Holes:\t0\n"
     ]
    }
   ],
   "source": [
    "num_steps, num_penalties, final_reward = apply_q_table(environment=no_slip_env, q_table=q_table, animate=True, delay=0.1)\n",
    "print('\\nNon-Slippery')\n",
    "print(f'[Exploitation Only]\\n=============\\nNumber of Steps:\\t{num_steps}\\nNumber of Holes:\\t{num_penalties}')"
   ]
  },
  {
   "cell_type": "code",
   "execution_count": 29,
   "id": "a5f85df9",
   "metadata": {},
   "outputs": [],
   "source": [
    "no_slip_env = FrozenLakeEnv(slippery=False).env\n",
    "u6.set_environment_seed(environment=no_slip_env, seed=42)"
   ]
  },
  {
   "cell_type": "code",
   "execution_count": 30,
   "id": "f51bc962",
   "metadata": {},
   "outputs": [
    {
     "name": "stdout",
     "output_type": "stream",
     "text": [
      "  (Down)\n",
      "SFFFFFFF\n",
      "FFFFFFFF\n",
      "FFFHFFFF\n",
      "FFFFFHFF\n",
      "FFFHFFFF\n",
      "FHHFFFHF\n",
      "FHFFHFHF\n",
      "FFFHFFF\u001b[41mG\u001b[0m\n",
      "\n",
      "Step No.: 14\n",
      "State ID: 63\n",
      "Action ID: 1\n",
      "Reward: 1.0\n",
      "\n",
      "Non-Slippery\n",
      "[Exploration Involved]\n",
      "=============\n",
      "Number of Steps:\t14\n",
      "Number of Holes:\t0\n"
     ]
    }
   ],
   "source": [
    "num_steps, num_penalties, final_reward = apply_q_table(environment=no_slip_env, q_table=q_table_noslip_rand, animate=True,\n",
    "                                                       delay=0.1)\n",
    "print('\\nNon-Slippery')\n",
    "print(f'[Exploration Involved]\\n=============\\nNumber of Steps:\\t{num_steps}\\nNumber of Holes:\\t{num_penalties}')"
   ]
  },
  {
   "cell_type": "code",
   "execution_count": 31,
   "id": "e5efbbd4",
   "metadata": {},
   "outputs": [],
   "source": [
    "slip_env = FrozenLakeEnv(slippery=True).env\n",
    "u6.set_environment_seed(environment=slip_env, seed=42)"
   ]
  },
  {
   "cell_type": "code",
   "execution_count": 32,
   "id": "1bf54ad6",
   "metadata": {},
   "outputs": [
    {
     "name": "stdout",
     "output_type": "stream",
     "text": [
      "  (Right)\n",
      "SFFFFFFF\n",
      "FFFFFFFF\n",
      "FFFHFFFF\n",
      "FFFFFHFF\n",
      "FFFHFFFF\n",
      "FHHFFFHF\n",
      "FHFFHFHF\n",
      "FFFHFFF\u001b[41mG\u001b[0m\n",
      "\n",
      "Step No.: 74\n",
      "State ID: 63\n",
      "Action ID: 2\n",
      "Reward: 1.0\n",
      "\n",
      "Slippery\n",
      "[Exploration Involved]\n",
      "=============\n",
      "Number of Steps:\t74\n",
      "Number of Holes:\t0\n"
     ]
    }
   ],
   "source": [
    "u6.set_environment_seed(environment=slip_env, seed=42)\n",
    "num_steps, num_penalties, final_reward = apply_q_table(environment=slip_env, q_table=q_table_slip_rand, animate=True, delay=0.1)\n",
    "print('\\nSlippery')\n",
    "print(f'[Exploration Involved]\\n=============\\nNumber of Steps:\\t{num_steps}\\nNumber of Holes:\\t{num_penalties}')"
   ]
  },
  {
   "cell_type": "code",
   "execution_count": 33,
   "id": "4303c4e0",
   "metadata": {},
   "outputs": [],
   "source": [
    "# Slippery Policy almost identified the optimum path to reach the goal, while the Slippery Policy accounts for some uncertainty\n",
    "# in the movement."
   ]
  },
  {
   "cell_type": "code",
   "execution_count": 34,
   "id": "24655791",
   "metadata": {},
   "outputs": [],
   "source": [
    "# Which property of the environment is exploited in the slippery policy to avoid involuntary dives?\n",
    "# When Reaching a Slippery Surface, if the movement was not implemented as intended\n",
    "# The Policy Return back to previous non-slippery surface and then re-do the same action until it reaches the goal."
   ]
  },
  {
   "cell_type": "markdown",
   "id": "a1f0ef7b",
   "metadata": {},
   "source": [
    "<div class=\"alert alert-warning\">\n",
    "    <b>Exercise 3.4 [15 Points]</b>\n",
    "    <ul>\n",
    "        <li>Conduct a <i>$Q$-table guided search experiment</i> on the non-slippery environment, as outlined previously, using $100$ repetitions and the random seed set to $42$.</li>\n",
    "        <li>Interpret the visualization (e.g. the span of the boxes) and keep the scaling of the <i>x-axis</i> in mind.</li>\n",
    "        <li>In comparison with the <i>random search</i> experiment, how does the $Q$-table guided search perform? Discuss the results.</li>\n",
    "    </ul>\n",
    "</div>"
   ]
  },
  {
   "cell_type": "code",
   "execution_count": 35,
   "id": "852027e2",
   "metadata": {},
   "outputs": [
    {
     "data": {
      "text/html": [
       "<div>\n",
       "<style scoped>\n",
       "    .dataframe tbody tr th:only-of-type {\n",
       "        vertical-align: middle;\n",
       "    }\n",
       "\n",
       "    .dataframe tbody tr th {\n",
       "        vertical-align: top;\n",
       "    }\n",
       "\n",
       "    .dataframe thead th {\n",
       "        text-align: right;\n",
       "    }\n",
       "</style>\n",
       "<table border=\"1\" class=\"dataframe\">\n",
       "  <thead>\n",
       "    <tr style=\"text-align: right;\">\n",
       "      <th></th>\n",
       "      <th>num_steps</th>\n",
       "      <th>num_penalties</th>\n",
       "      <th>final_reward</th>\n",
       "    </tr>\n",
       "  </thead>\n",
       "  <tbody>\n",
       "    <tr>\n",
       "      <th>0</th>\n",
       "      <td>14</td>\n",
       "      <td>0</td>\n",
       "      <td>1.0</td>\n",
       "    </tr>\n",
       "    <tr>\n",
       "      <th>1</th>\n",
       "      <td>14</td>\n",
       "      <td>0</td>\n",
       "      <td>1.0</td>\n",
       "    </tr>\n",
       "    <tr>\n",
       "      <th>2</th>\n",
       "      <td>14</td>\n",
       "      <td>0</td>\n",
       "      <td>1.0</td>\n",
       "    </tr>\n",
       "    <tr>\n",
       "      <th>3</th>\n",
       "      <td>14</td>\n",
       "      <td>0</td>\n",
       "      <td>1.0</td>\n",
       "    </tr>\n",
       "    <tr>\n",
       "      <th>4</th>\n",
       "      <td>14</td>\n",
       "      <td>0</td>\n",
       "      <td>1.0</td>\n",
       "    </tr>\n",
       "    <tr>\n",
       "      <th>...</th>\n",
       "      <td>...</td>\n",
       "      <td>...</td>\n",
       "      <td>...</td>\n",
       "    </tr>\n",
       "    <tr>\n",
       "      <th>95</th>\n",
       "      <td>14</td>\n",
       "      <td>0</td>\n",
       "      <td>1.0</td>\n",
       "    </tr>\n",
       "    <tr>\n",
       "      <th>96</th>\n",
       "      <td>14</td>\n",
       "      <td>0</td>\n",
       "      <td>1.0</td>\n",
       "    </tr>\n",
       "    <tr>\n",
       "      <th>97</th>\n",
       "      <td>14</td>\n",
       "      <td>0</td>\n",
       "      <td>1.0</td>\n",
       "    </tr>\n",
       "    <tr>\n",
       "      <th>98</th>\n",
       "      <td>14</td>\n",
       "      <td>0</td>\n",
       "      <td>1.0</td>\n",
       "    </tr>\n",
       "    <tr>\n",
       "      <th>99</th>\n",
       "      <td>14</td>\n",
       "      <td>0</td>\n",
       "      <td>1.0</td>\n",
       "    </tr>\n",
       "  </tbody>\n",
       "</table>\n",
       "<p>100 rows × 3 columns</p>\n",
       "</div>"
      ],
      "text/plain": [
       "    num_steps  num_penalties  final_reward\n",
       "0          14              0           1.0\n",
       "1          14              0           1.0\n",
       "2          14              0           1.0\n",
       "3          14              0           1.0\n",
       "4          14              0           1.0\n",
       "..        ...            ...           ...\n",
       "95         14              0           1.0\n",
       "96         14              0           1.0\n",
       "97         14              0           1.0\n",
       "98         14              0           1.0\n",
       "99         14              0           1.0\n",
       "\n",
       "[100 rows x 3 columns]"
      ]
     },
     "execution_count": 35,
     "metadata": {},
     "output_type": "execute_result"
    }
   ],
   "source": [
    "u6.set_environment_seed(environment=no_slip_env, seed=42)\n",
    "\n",
    "num_reps = 100\n",
    "q_exps = []\n",
    "\n",
    "for i in range(num_reps):\n",
    "    no_slip_env.reset()\n",
    "    q_exps.append(apply_q_table(environment=no_slip_env, q_table=q_table_noslip_rand, animate=False))\n",
    "qtable_exps = pd.DataFrame(q_exps, columns=['num_steps', 'num_penalties', 'final_reward'])\n",
    "qtable_exps"
   ]
  },
  {
   "cell_type": "code",
   "execution_count": 36,
   "id": "dcb5da80",
   "metadata": {},
   "outputs": [
    {
     "data": {
      "image/png": "[encoded data removed]",
      "text/plain": [
       "<Figure size 1440x504 with 1 Axes>"
      ]
     },
     "metadata": {},
     "output_type": "display_data"
    }
   ],
   "source": [
    "fig, ax = plt.subplots(figsize=(20, 7))\n",
    "ax.set_xscale('symlog')\n",
    "sns.boxplot(data=qtable_exps, ax=ax, orient='h')\n",
    "sns.stripplot(data=qtable_exps, ax=ax, orient='h', color='gray')\n",
    "plt.show()"
   ]
  },
  {
   "cell_type": "code",
   "execution_count": 37,
   "id": "b950949e",
   "metadata": {},
   "outputs": [],
   "source": [
    "# The Graph Shows that the q-table was able to learn the optimum path which it will prefer over any other every time, to\n",
    "# reach the goal with a 100% probability"
   ]
  },
  {
   "cell_type": "code",
   "execution_count": 38,
   "id": "fccc83d9",
   "metadata": {},
   "outputs": [],
   "source": [
    "# In Comparison with random search, the latter takes actions based on randomness, which there's a much higher probability of\n",
    "# falling into a hole, which can be seen in the number of penalties, as well as the number of steps vary widely."
   ]
  },
  {
   "cell_type": "markdown",
   "id": "b6817f71",
   "metadata": {},
   "source": [
    "<div class=\"alert alert-warning\">\n",
    "    <b>Exercise 3.5 [15 Points]</b>\n",
    "    <ul>\n",
    "        <li>Repeat the <i>$Q$-table guided search experiment</i> using $100$ repetitions and the random seed set to $42$. This time we would like to compare both policies (learned for the slippery and non-slippery environment) on the slippery environment. Hence, you have to apply the non-slippery $Q$-table to the slippery environment and also the slippery $Q$-table to the same environment. Remember to reset the seed.</li>\n",
    "        <li>Compare the number of performed steps as well as the performed dives using box- and strip-(swarm-) plots. Discuss your observations.</li>\n",
    "    </ul>\n",
    "</div>"
   ]
  },
  {
   "cell_type": "code",
   "execution_count": 39,
   "id": "34191481",
   "metadata": {},
   "outputs": [
    {
     "data": {
      "image/png": "[encoded data removed]",
      "text/plain": [
       "<Figure size 1440x504 with 1 Axes>"
      ]
     },
     "metadata": {},
     "output_type": "display_data"
    }
   ],
   "source": [
    "# Slippery Env -> Slippery Q-table\n",
    "u6.set_environment_seed(environment=slip_env, seed=42)\n",
    "\n",
    "num_reps = 100\n",
    "q_exps = []\n",
    "\n",
    "for i in range(num_reps):\n",
    "    slip_env.reset()\n",
    "    q_exps.append(apply_q_table(environment=slip_env, q_table=q_table_slip_rand, animate=False))\n",
    "qtable_exps = pd.DataFrame(q_exps, columns=['num_steps', 'num_penalties', 'final_reward'])\n",
    "\n",
    "fig, ax = plt.subplots(figsize=(20, 7))\n",
    "ax.set_xscale('symlog')\n",
    "sns.boxplot(data=qtable_exps, ax=ax, orient='h')\n",
    "sns.stripplot(data=qtable_exps, ax=ax, orient='h', color='gray')\n",
    "plt.show()"
   ]
  },
  {
   "cell_type": "code",
   "execution_count": 40,
   "id": "67d5f37e",
   "metadata": {},
   "outputs": [],
   "source": [
    "# When Comparing the Slippery Policy and the Non-Slippery Policy \"Each on its respective environment\",\n",
    "# We see that the \"Slippery Policy\" in fact sometimes fail to reach the goal and step into some holes, also the number of the\n",
    "# steps vary within the range of approximately 50 to 150\n",
    "# In contrast with the \"Non-Slippery Policy\" -plotted previously- It succeeds to reach the goal everytime because the actions will\n",
    "# always remain the same \"without any probability of randomness\""
   ]
  },
  {
   "cell_type": "code",
   "execution_count": 41,
   "id": "b78251f2",
   "metadata": {},
   "outputs": [
    {
     "data": {
      "image/png": "[encoded data removed]",
      "text/plain": [
       "<Figure size 1440x504 with 1 Axes>"
      ]
     },
     "metadata": {},
     "output_type": "display_data"
    }
   ],
   "source": [
    "# Slippery Env -> Non-Slippery Q-table\n",
    "u6.set_environment_seed(environment=slip_env, seed=42)\n",
    "\n",
    "num_reps = 100\n",
    "q_exps = []\n",
    "\n",
    "for i in range(num_reps):\n",
    "    slip_env.reset()\n",
    "    q_exps.append(apply_q_table(environment=slip_env, q_table=q_table_noslip_rand, animate=False))\n",
    "qtable_exps = pd.DataFrame(q_exps, columns=['num_steps', 'num_penalties', 'final_reward'])\n",
    "\n",
    "fig, ax = plt.subplots(figsize=(20, 7))\n",
    "ax.set_xscale('symlog')\n",
    "sns.boxplot(data=qtable_exps, ax=ax, orient='h')\n",
    "sns.stripplot(data=qtable_exps, ax=ax, orient='h', color='gray')\n",
    "plt.show()"
   ]
  },
  {
   "cell_type": "code",
   "execution_count": 42,
   "id": "f03c210a",
   "metadata": {},
   "outputs": [],
   "source": [
    "# When Comparing the \"Policy of Non-Slippery\" Environment applied on the \"Slippery Environment\" with\n",
    "# The \"Policy of the Non-Slippery\" Environment applied on \"its particular environment\",\n",
    "# We can See that the number of steps is much bigger, as explained previously, moreover the number of penalties is also more\n",
    "# often than the number of penalties of the \"Policy of Slippery\" Environment -represented in where is the box located, and\n",
    "# where is the outliers-"
   ]
  }
 ],
 "metadata": {
  "interpreter": {
   "hash": "1067ee20f23cf75b48768bdb5f7ec1d4c21e1831c972d070ed1f98bb55bb7e57"
  },
  "kernelspec": {
   "display_name": "Python 3 (ipykernel)",
   "language": "python",
   "name": "python3"
  },
  "language_info": {
   "codemirror_mode": {
    "name": "ipython",
    "version": 3
   },
   "file_extension": ".py",
   "mimetype": "text/x-python",
   "name": "python",
   "nbconvert_exporter": "python",
   "pygments_lexer": "ipython3",
   "version": "3.8.9"
  }
 },
 "nbformat": 4,
 "nbformat_minor": 5
}
